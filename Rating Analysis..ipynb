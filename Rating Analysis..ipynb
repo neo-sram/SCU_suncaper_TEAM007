{
  "cells": [
    {
      "cell_type": "code",
      "execution_count": 5,
      "metadata": {},
      "outputs": [],
      "source": [
        "from pyspark.sql import SparkSession\n",
        "from pyspark.sql.types import *\n",
        "from pyspark.sql.functions import *\n",
        "spark = SparkSession.builder.appName('hello spark').master('local').getOrCreate()"
      ]
    },
    {
      "cell_type": "code",
      "execution_count": 6,
      "metadata": {
        "autoscroll": "auto"
      },
      "outputs": [
        {
          "name": "stdout",
          "output_type": "stream",
          "text": [
            "+-----+-------+\n",
            "|stars|  count|\n",
            "+-----+-------+\n",
            "|  1.0|1069561|\n",
            "|  2.0| 544240|\n",
            "|  3.0| 691934|\n",
            "|  4.0|1452918|\n",
            "|  5.0|3231627|\n",
            "+-----+-------+\n",
            "\n"
          ]
        }
      ],
      "source": [
        "\n",
        "\n",
        "df = spark.read.json('D:/china/intershipBigData/yelp/yelp_academic_dataset_review.json')\n",
        "rating_dist = df.groupBy(\"stars\").count().orderBy(\"stars\")\n",
        "rating_dist.show()\n"
      ]
    },
    {
      "cell_type": "code",
      "execution_count": 7,
      "metadata": {
        "autoscroll": "auto"
      },
      "outputs": [
        {
          "name": "stdout",
          "output_type": "stream",
          "text": [
            "+-----------+-----+------+\n",
            "|day_of_week|stars| count|\n",
            "+-----------+-----+------+\n",
            "|     Friday|  1.0|145304|\n",
            "|     Friday|  2.0| 70798|\n",
            "|     Friday|  3.0| 89206|\n",
            "|     Friday|  4.0|189791|\n",
            "|     Friday|  5.0|447057|\n",
            "|     Monday|  1.0|155785|\n",
            "|     Monday|  2.0| 83307|\n",
            "|     Monday|  3.0|109695|\n",
            "|     Monday|  4.0|226274|\n",
            "|     Monday|  5.0|455068|\n",
            "|   Saturday|  1.0|168269|\n",
            "|   Saturday|  2.0| 83393|\n",
            "|   Saturday|  3.0| 99651|\n",
            "|   Saturday|  4.0|208298|\n",
            "|   Saturday|  5.0|505845|\n",
            "|     Sunday|  1.0|178993|\n",
            "|     Sunday|  2.0| 97509|\n",
            "|     Sunday|  3.0|115885|\n",
            "|     Sunday|  4.0|235178|\n",
            "|     Sunday|  5.0|518344|\n",
            "+-----------+-----+------+\n",
            "only showing top 20 rows\n",
            "\n"
          ]
        }
      ],
      "source": [
        "\n",
        "\n",
        "df = spark.read.json('D:/china/intershipBigData/yelp/yelp_academic_dataset_review.json')\n",
        "df = df.withColumn(\"day_of_week\", date_format(\"date\", \"EEEE\"))\n",
        "rating_frequency_by_day_of_week = df.groupBy(\"day_of_week\", \"stars\").count().orderBy(\"day_of_week\", \"stars\")\n",
        "rating_frequency_by_day_of_week.show()\n",
        "\n"
      ]
    },
    {
      "cell_type": "code",
      "execution_count": 8,
      "metadata": {
        "autoscroll": "auto"
      },
      "outputs": [
        {
          "name": "stdout",
          "output_type": "stream",
          "text": [
            "+--------------------+-----+\n",
            "|         business_id|count|\n",
            "+--------------------+-----+\n",
            "|ytynqOUb3hjKeJfRj...| 4014|\n",
            "|ac1AeYqs8Z4_e2X5M...| 4012|\n",
            "|GXFMD0Z4jEVZBCsbP...| 3838|\n",
            "|_ab50qdWOk0DdB6XO...| 3645|\n",
            "|_C7QiQQc47AOEv4PE...| 3095|\n",
            "+--------------------+-----+\n",
            "only showing top 5 rows\n",
            "\n"
          ]
        }
      ],
      "source": [
        "\n",
        "df = df = spark.read.json('D:/china/intershipBigData/yelp/yelp_academic_dataset_review.json')\n",
        "df_5_star_ratings = df.filter(df[\"stars\"] == 5)\n",
        "top_merchants_with_most_5_stars = df_5_star_ratings.groupBy(\"business_id\") \\\n",
        "    .count().orderBy(\"count\", ascending=False)\n",
        "top_merchants_with_most_5_stars.show(5)"
      ]
    },
    {
      "cell_type": "code",
      "execution_count": 10,
      "metadata": {
        "autoscroll": "auto"
      },
      "outputs": [
        {
          "name": "stdout",
          "output_type": "stream",
          "text": [
            "+--------------------+-----+\n",
            "|                name|count|\n",
            "+--------------------+-----+\n",
            "|Boyd Hill Nature ...|   25|\n",
            "|The Richel D'Ambr...|   29|\n",
            "|          Wanderwell|    5|\n",
            "|Champion Chevrole...|   19|\n",
            "|      The Beer Store|   14|\n",
            "+--------------------+-----+\n",
            "\n"
          ]
        }
      ],
      "source": [
        "review_df = spark.read.json('D:/china/intershipBigData/yelp/yelp_academic_dataset_review.json')\n",
        "business_df =  spark.read.json('D:/china/intershipBigData/yelp/yelp_academic_dataset_business.json')\n",
        "ratings_df = review_df.filter(review_df[\"stars\"] == 5)\n",
        "top_df = ratings_df.groupBy(\"business_id\") \\\n",
        "    .count().orderBy(\"count\", ascending=False)\n",
        "names_df = top_df.join(business_df.select(\"business_id\", \"name\"), \n",
        "                                                               top_df[\"business_id\"] == business_df[\"business_id\"])\n",
        "top_5_merchants = names_df.select(\"name\", \"count\").limit(5)\n",
        "top_5_merchants.show()\n"
      ]
    }
  ],
  "metadata": {
    "kernelspec": {
      "display_name": "Python 3",
      "language": "python",
      "name": "python3"
    },
    "language_info": {
      "codemirror_mode": {
        "name": "ipython",
        "version": 3
      },
      "file_extension": ".py",
      "mimetype": "text/x-python",
      "name": "python",
      "nbconvert_exporter": "python",
      "pygments_lexer": "ipython3",
      "version": "3.11.0"
    },
    "name": "Rating Analysis"
  },
  "nbformat": 4,
  "nbformat_minor": 2
}
