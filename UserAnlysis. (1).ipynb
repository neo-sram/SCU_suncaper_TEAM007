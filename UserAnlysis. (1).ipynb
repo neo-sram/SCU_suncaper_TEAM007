{
  "cells": [
    {
      "cell_type": "code",
      "execution_count": 2,
      "metadata": {
        "autoscroll": "auto"
      },
      "outputs": [],
      "source": [
        "from pyspark.sql import SparkSession\n",
        "from pyspark.sql.types import *\n",
        "from pyspark.sql.functions import *\n",
        "spark = SparkSession.builder.appName('hello spark').master('local').getOrCreate()\n"
      ]
    },
    {
      "cell_type": "code",
      "execution_count": 6,
      "metadata": {
        "autoscroll": "auto"
      },
      "outputs": [
        {
          "name": "stdout",
          "output_type": "stream",
          "text": [
            "Total Review Count: 46505676\n"
          ]
        }
      ],
      "source": [
        "\n",
        "users_df =spark.read.json('D:/china/intershipBigData/yelp/yelp_academic_dataset_user.json')\n",
        "total_review_count = users_df.select(sum(\"review_count\")).collect()[0][0]\n",
        "print(\"Total Review Count:\", total_review_count)\n"
      ]
    },
    {
      "cell_type": "code",
      "execution_count": 7,
      "metadata": {
        "autoscroll": "auto"
      },
      "outputs": [
        {
          "name": "stdout",
          "output_type": "stream",
          "text": [
            "+-----------+-------------+\n",
            "|signup_year|total_signups|\n",
            "+-----------+-------------+\n",
            "|       2004|           90|\n",
            "|       2005|          937|\n",
            "|       2006|         5423|\n",
            "|       2007|        15340|\n",
            "|       2008|        31097|\n",
            "|       2009|        64911|\n",
            "|       2010|       109054|\n",
            "|       2011|       176435|\n",
            "|       2012|       195955|\n",
            "|       2013|       209762|\n",
            "|       2014|       233465|\n",
            "|       2015|       247850|\n",
            "|       2016|       217620|\n",
            "|       2017|       151024|\n",
            "|       2018|       133568|\n",
            "|       2019|       104655|\n",
            "|       2020|        47444|\n",
            "|       2021|        40485|\n",
            "|       2022|         2782|\n",
            "+-----------+-------------+\n",
            "\n"
          ]
        }
      ],
      "source": [
        "\n",
        "\n",
        "users_df =spark.read.json('D:/china/intershipBigData/yelp/yelp_academic_dataset_user.json')\n",
        "yearly_signups = users_df.withColumn(\"signup_year\", year(\"yelping_since\")) \\\n",
        "    .groupBy(\"signup_year\") \\\n",
        "    .agg(count(\"*\").alias(\"total_signups\")) \\\n",
        "    .orderBy(\"signup_year\")\n",
        "yearly_signups.show()\n"
      ]
    },
    {
      "cell_type": "code",
      "execution_count": 9,
      "metadata": {
        "autoscroll": "auto"
      },
      "outputs": [
        {
          "name": "stdout",
          "output_type": "stream",
          "text": [
            "+-----------+-----------+----------------------+\n",
            "|signup_year|total_users|silent_user_proportion|\n",
            "+-----------+-----------+----------------------+\n",
            "|       2004|         90|                   0.0|\n",
            "|       2005|        937|                   0.0|\n",
            "|       2006|       5423|                   0.0|\n",
            "|       2007|      15340|                   0.0|\n",
            "|       2008|      31097|                   0.0|\n",
            "|       2009|      64911|                   0.0|\n",
            "|       2010|     109054|   9.16976910521393E-6|\n",
            "|       2011|     176435|  5.667809674951115E-6|\n",
            "|       2012|     195955|  1.530963741675384...|\n",
            "|       2013|     209762|  4.767307710643491E-6|\n",
            "|       2014|     233465|  4.283297282247874E-6|\n",
            "|       2015|     247850|   8.06939681258826E-6|\n",
            "|       2016|     217620|  1.378549765646539...|\n",
            "|       2017|     151024|  3.310732069075114E-5|\n",
            "|       2018|     133568|  2.994729276473407E-5|\n",
            "|       2019|     104655|  5.733123118818976...|\n",
            "|       2020|      47444|  1.475423657364471...|\n",
            "|       2021|      40485|  3.211065826849450...|\n",
            "|       2022|       2782|  0.002516175413371...|\n",
            "+-----------+-----------+----------------------+\n",
            "\n"
          ]
        }
      ],
      "source": [
        "\n",
        "users_df =spark.read.json('D:/china/intershipBigData/yelp/yelp_academic_dataset_user.json')\n",
        "yearly_proportions = users_df.withColumn(\"signup_year\", year(\"yelping_since\")) \\\n",
        "    .groupBy(\"signup_year\") \\\n",
        "    .agg(count(\"*\").alias(\"total_users\"),\n",
        "         (count(when(users_df.review_count == 0, True)) / count(\"*\")).alias(\"silent_user_proportion\")) \\\n",
        "    .orderBy(\"signup_year\")\n",
        "yearly_proportions.show()\n"
      ]
    },
    {
      "cell_type": "code",
      "execution_count": 10,
      "metadata": {
        "autoscroll": "auto"
      },
      "outputs": [
        {
          "name": "stdout",
          "output_type": "stream",
          "text": [
            "+-----------+---------+\n",
            "|signup_year|new_users|\n",
            "+-----------+---------+\n",
            "|       2004|       90|\n",
            "|       2005|      937|\n",
            "|       2006|     5423|\n",
            "|       2007|    15340|\n",
            "|       2008|    31097|\n",
            "|       2009|    64911|\n",
            "|       2010|   109054|\n",
            "|       2011|   176435|\n",
            "|       2012|   195955|\n",
            "|       2013|   209762|\n",
            "|       2014|   233465|\n",
            "|       2015|   247850|\n",
            "|       2016|   217620|\n",
            "|       2017|   151024|\n",
            "|       2018|   133568|\n",
            "|       2019|   104655|\n",
            "|       2020|    47444|\n",
            "|       2021|    40485|\n",
            "|       2022|     2782|\n",
            "+-----------+---------+\n",
            "\n"
          ]
        }
      ],
      "source": [
        "\n",
        "users_df =spark.read.json('D:/china/intershipBigData/yelp/yelp_academic_dataset_user.json')\n",
        "new_users_df = users_df.withColumn(\"signup_year\", year(\"yelping_since\")) \\\n",
        "    .groupBy(\"signup_year\") \\\n",
        "    .agg(count(\"*\").alias(\"new_users\")) \\\n",
        "    .orderBy(\"signup_year\")\n",
        "new_users_df.show()\n",
        "\n"
      ]
    },
    {
      "cell_type": "code",
      "execution_count": 11,
      "metadata": {
        "autoscroll": "auto"
      },
      "outputs": [
        {
          "name": "stdout",
          "output_type": "stream",
          "text": [
            "+-----------+------------+\n",
            "|signup_year|review_count|\n",
            "+-----------+------------+\n",
            "|       2004|       14577|\n",
            "|       2005|      226005|\n",
            "|       2006|      920176|\n",
            "|       2007|     2011487|\n",
            "|       2008|     3162898|\n",
            "|       2009|     4401364|\n",
            "|       2010|     5444361|\n",
            "|       2011|     6344607|\n",
            "|       2012|     5405586|\n",
            "|       2013|     4820434|\n",
            "|       2014|     4354298|\n",
            "|       2015|     3630507|\n",
            "|       2016|     2500839|\n",
            "|       2017|     1457654|\n",
            "|       2018|      938027|\n",
            "|       2019|      559500|\n",
            "|       2020|      197284|\n",
            "|       2021|      112349|\n",
            "|       2022|        3723|\n",
            "+-----------+------------+\n",
            "\n"
          ]
        }
      ],
      "source": [
        "\n",
        "users_df =spark.read.json('D:/china/intershipBigData/yelp/yelp_academic_dataset_user.json')\n",
        "review_df = users_df.withColumn(\"signup_year\", year(\"yelping_since\")) \\\n",
        "    .groupBy(\"signup_year\") \\\n",
        "    .agg(sum(\"review_count\").alias(\"review_count\")) \\\n",
        "    .orderBy(\"signup_year\")\n",
        "review_df.show()\n",
        "\n"
      ]
    },
    {
      "cell_type": "code",
      "execution_count": 12,
      "metadata": {
        "autoscroll": "auto"
      },
      "outputs": [],
      "source": [
        "#another question"
      ]
    },
    {
      "cell_type": "code",
      "execution_count": 3,
      "metadata": {
        "autoscroll": "auto"
      },
      "outputs": [
        {
          "name": "stdout",
          "output_type": "stream",
          "text": [
            "+--------------------+-------+-----+\n",
            "|             user_id|   name| fans|\n",
            "+--------------------+-------+-----+\n",
            "|37cpUoM8hlkSQfReI...|   Mike|12497|\n",
            "|hizGc5W1tBHPghM5Y...|  Katie| 3642|\n",
            "|Hi10sGSZNxQH3NLyW...|    Fox| 3493|\n",
            "|JjXuiru1_ONzDkYVr...|Richard| 3243|\n",
            "|j14WgRoU_-2ZE1aw1...| Daniel| 3138|\n",
            "|VHdY6oG2JPVNjihWh...|Jessica| 2627|\n",
            "|iLjMdZi0Tm7DQxX1C...|  Ruggy| 2547|\n",
            "|lt7bNHl-TXziny4FE...|  Megan| 2451|\n",
            "|fgwI3rYHOv1ipfVfC...|    Emi| 2424|\n",
            "|ITa3vh5ERI90G_WP4...|  Peter| 2388|\n",
            "+--------------------+-------+-----+\n",
            "only showing top 10 rows\n",
            "\n"
          ]
        }
      ],
      "source": [
        "user_df = spark.read.json('D:/china/intershipBigData/yelp/yelp_academic_dataset_user.json')\n",
        "popular_users = user_df.orderBy(desc(\"fans\"))\n",
        "popular_users.select(\"user_id\", \"name\", \"fans\").show(10)\n"
      ]
    }
  ],
  "metadata": {
    "kernelspec": {
      "display_name": "Python 3",
      "language": "python",
      "name": "python3"
    },
    "language_info": {
      "codemirror_mode": {
        "name": "ipython",
        "version": 3
      },
      "file_extension": ".py",
      "mimetype": "text/x-python",
      "name": "python",
      "nbconvert_exporter": "python",
      "pygments_lexer": "ipython3",
      "version": "3.11.0"
    },
    "name": "UserAnlysis"
  },
  "nbformat": 4,
  "nbformat_minor": 2
}
