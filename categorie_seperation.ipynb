{
 "cells": [
  {
   "cell_type": "code",
   "execution_count": 1,
   "metadata": {},
   "outputs": [],
   "source": [
    "from pyspark.sql import SparkSession\n",
    "from pyspark.sql.types import *\n",
    "from pyspark.sql.functions import *\n",
    "spark = SparkSession.builder.appName('hello spark').master('local').getOrCreate()"
   ]
  },
  {
   "cell_type": "code",
   "execution_count": 2,
   "metadata": {},
   "outputs": [
    {
     "name": "stdout",
     "output_type": "stream",
     "text": [
      "+--------------------+--------------------+--------------------+--------------------+----------------+--------------------+-------+-------------+---------------+--------------------+-----------+------------+-----+-----+\n",
      "|             address|          attributes|         business_id|          categories|            city|               hours|is_open|     latitude|      longitude|                name|postal_code|review_count|stars|state|\n",
      "+--------------------+--------------------+--------------------+--------------------+----------------+--------------------+-------+-------------+---------------+--------------------+-----------+------------+-----+-----+\n",
      "|2309 N Dale Mabry...|{NULL, NULL, 'non...|h2z8V4L63QUSjacdu...|Nightlife, Cabare...|           Tampa|{12:0-6:0, 12:0-4...|      1|   27.9621572|    -82.5050939|        2001 Odyssey|      33607|          35|  3.5|   FL|\n",
      "|        708 N 2nd St|{NULL, NULL, u'fu...|8FPoRksgBRiPNnC8B...|Arts & Entertainm...|     Saint Louis|{16:0-1:30, NULL,...|      0|   38.6303714|    -90.1844936|    Seven Zero Eight|      63102|          34|  2.0|   MO|\n",
      "|   1060 Telegraph St|{NULL, NULL, u'fu...|gu7aSHgTjZ6DQBFD-...|Cabaret, Restaura...|            Reno|{12:0-5:0, 0:0-0:...|      1|39.5155735767| -119.773041559|Peppermint Hippo ...|      89502|          10|  4.0|   NV|\n",
      "|250 Bobwhite Ct, ...|{False, NULL, NUL...|66vJSrgcXA9h5_oB4...|Doctors, IV Hydra...|           Boise|{NULL, 8:0-17:0, ...|      1|   43.5970321|   -116.1837324|Integrative Medic...|      83706|           5|  5.0|   ID|\n",
      "|924 N Pennsylvani...|{NULL, NULL, u'fu...|TEZ6tQ92RU5CYfDIO...|Nightlife, Cabare...|    Indianapolis|{10:0-17:0, 0:0-0...|      1|   39.7799576|    -86.1562132|         The Cabaret|      46204|          22|  4.5|   IN|\n",
      "|      632 Bourbon St|{NULL, u'21plus',...|q1lImbkMQORg9HEcG...|Gay Bars, Adult E...|     New Orleans|{20:0-4:0, NULL, ...|      0|29.9575052003| -90.0665278127|    Bourbon Bad Boys|      70130|          24|  3.0|   LA|\n",
      "|305 N Fort Harris...|{False, NULL, NUL...|YpufHZt_gPeQ7pfD8...|Health & Medical,...|      Clearwater|{8:0-18:0, 8:0-18...|      1|   27.9695075|    -82.7997773|Free Motion Physi...|      33755|           8|  5.0|   FL|\n",
      "|       1700 4th St N|                NULL|VkEtErmscrfJsobFA...|Cryotherapy, IV H...|  St. Petersburg|{10:0-19:0, 10:0-...|      1|   27.7886354|    -82.6388644|Restore Hyper Wel...|      33704|           8|  5.0|   FL|\n",
      "|     125 Chartres St|{NULL, NULL, 'ful...|NptSlw3aDVtu-qtXc...|Arts & Entertainm...|     New Orleans|{17:0-1:30, 0:0-0...|      1|   29.9532894|     -90.067761|  Mahogany Jazz Hall|      70130|          97|  4.5|   LA|\n",
      "|     8217 104 Street|{NULL, NULL, NULL...|4c6KFQDT51uHrPcfo...|Arts & Entertainm...|        Edmonton|{11:0-2:0, 11:0-2...|      1|    53.518453|    -113.497289|   Spotlight Cabaret|    T6E 4E7|          12|  4.5|   AB|\n",
      "|   515 S Virginia St|{NULL, NULL, 'ful...|OZ-1ELIHAoF4jPwzu...|Champagne Bars, A...|            Reno|{19:0-6:0, 19:0-3...|      1|39.5196227275| -119.810345503|         Wild Orchid|      89501|          66|  3.0|   NV|\n",
      "|   269 A Franklin Rd|{NULL, NULL, NULL...|TF4rcS6u1yvFjHtXg...|Cryotherapy, IV H...|       Brentwood|{10:0-19:0, 10:0-...|      1|   36.0297973| -86.7914724528|Restore Hyper Wel...|      37027|           6|  4.5|   TN|\n",
      "|    16615 109 Avenue|{NULL, NULL, u'fu...|crjRqGzxe6-MM4ylq...|Restaurants, Cana...|        Edmonton|{9:0-19:0, 9:0-19...|      1|53.5547235146|-113.6079470512|Mayfield Dinner T...|    T5J 1W5|          75|  4.5|   AB|\n",
      "|2240 Saint Claude...|{NULL, NULL, u'fu...|d7W1Fi6uRYUhDT_uW...|Nightlife, Perfor...|     New Orleans|{17:0-2:0, 17:0-1...|      1|29.9685314431| -90.0556376032|The AllWays Loung...|      70117|         102|  4.5|   LA|\n",
      "|  2901 Tyrone Blvd N|{NULL, NULL, u'fu...|mnCxnZ_enDs80ztv5...|Burgers, Bars, Ad...|Saint Petersburg|{11:0-0:0, 11:0-2...|      0|   27.7975851|    -82.7343122|     Hamburger Marys|      33710|          74|  3.5|   FL|\n",
      "|         344 Camp St|{NULL, NULL, u'fu...|UMQrB5IiWGidFjEXS...|Hotels & Travel, ...|     New Orleans|{6:30-23:0, 16:0-...|      0| 29.949805056| -90.0689642031|    Queen & Crescent|      70130|          85|  2.0|   LA|\n",
      "|      315 Bourbon St|{NULL, NULL, 'ful...|FwTIsJdOV8JVBO_ep...|Cabaret, Arts & E...|     New Orleans|{14:0-4:0, 14:0-4...|      1|    29.955959|    -90.0683657|      Rick's Cabaret|      70130|          90|  3.0|   LA|\n",
      "|   24652 US Hwy 19 N|{NULL, NULL, NULL...|jLyJ-CamATg-NZ3ij...|Arts & Entertainm...|      Clearwater|{12:0-3:0, 18:0-3...|      1|    27.996436|    -82.7299515|               Oasis|      33763|           6|  4.0|   FL|\n",
      "|627 Massachusetts...|{NULL, NULL, NULL...|KNn1f19fTzPjf008I...|Cabaret, Arts & E...|    Indianapolis|                NULL|      1|   39.7756233|    -86.1476909|Theatre On the Sq...|      46204|          31|  4.0|   IN|\n",
      "|    727 Iberville St|{NULL, NULL, u'fu...|-xxGo7PSP5tnL_GEH...|Bars, Cabaret, Ar...|     New Orleans|{17:0-1:0, 17:0-1...|      1|     29.95461|    -90.0687741|The Penthouse Clu...|      70130|          64|  3.0|   LA|\n",
      "|     5718 E Adamo Dr|{NULL, NULL, NULL...|sIxqxRfA0550QGY-l...|Adult Entertainme...|           Tampa|{12:0-19:0, 12:0-...|      1|27.9527147268| -82.3897244409|   Emperors Of Tampa|      33619|           7|  2.0|   FL|\n",
      "|   345 N Virginia St|{NULL, NULL, u'fu...|GliX6K0W09wTS7VqE...|Nightlife, Arts &...|            Reno|{12:0-20:30, 0:0-...|      1|    39.529111|   -119.8146715|   Eldorado Showroom|      89501|          74|  4.5|   NV|\n",
      "|   287 N Keswick Ave|{NULL, NULL, u'fu...|sTS89ctqDQj-oj4aj...|Arts & Entertainm...|        Glenside|{17:0-0:0, 0:0-0:...|      0|40.1062928539| -75.1471106228|    Dino's Backstage|      19038|          54|  3.5|   PA|\n",
      "|     4510 Manchester|{NULL, NULL, u'fu...|pgGB9JMomjODsdFKC...|Music Venues, Nig...|     Saint Louis|{17:0-1:30, NULL,...|      0|38.6262433012| -90.2622215331|         The Monocle|      63110|          29|  4.5|   MO|\n",
      "|1401 Mississippi Ave|{NULL, NULL, 'ful...|rnjXf1zDn9LGejhIX...|Arts & Entertainm...|          Sauget|{11:0-6:0, 11:0-5...|      1|    38.603017|     -90.174638|     Diamond Cabaret|      62201|          13|  2.5|   IL|\n",
      "|209A Santa Barbar...|{True, NULL, NULL...|mCGtci8Se4Cx1bH6S...|Traditional Chine...|   Santa Barbara|{9:0-18:0, 9:0-18...|      1|34.4163834188| -119.689845081|Alki Art & Wellne...|      93101|          38|  5.0|   CA|\n",
      "|       150 2nd Ave N|{NULL, NULL, u'fu...|FnC4STqkKbJElkwsR...|Arts & Entertainm...|       Nashville|{NULL, NULL, 11:0...|      1|    36.163462|     -86.775807|Music City Male R...|      37201|           7|  3.0|   TN|\n",
      "|Mag's 940, 940 El...|                NULL|B0ypVmtuwvyhI6Xjk...|Arts & Entertainm...|     New Orleans|                NULL|      1|   29.9673788|    -90.0571066|Diva Royal- Drag ...|      70117|           6|  4.0|   LA|\n",
      "|       625 N Main St|{NULL, NULL, u'fu...|YsGCL_hwZ3UulPr-m...|Cabaret, Comedy C...|      Doylestown|{16:0-22:0, 19:0-...|      1|   40.3250304|    -75.1294086|      Comedy Cabaret|      18901|           5|  4.5|   PA|\n",
      "|     3225 Advance Ln|{NULL, NULL, u'fu...|hFbbuETE4QVupYwMn...|Dance Clubs, Bars...|        Hatfield|{16:0-2:0, 0:0-0:...|      1|   40.2744865|    -75.2540131|   Creekside Cabaret|      18915|           9|  3.5|   PA|\n",
      "+--------------------+--------------------+--------------------+--------------------+----------------+--------------------+-------+-------------+---------------+--------------------+-----------+------------+-----+-----+\n",
      "only showing top 30 rows\n",
      "\n"
     ]
    }
   ],
   "source": [
    "df = spark.read.json('D:/china/intershipBigData/yelp/yelp_academic_dataset_business.json')\n",
    "bar = [\"bar\"]\n",
    "regex = \",\".join(bar)\n",
    "bar_category = df.filter(col('categories').rlike(regex)).show(30)"
   ]
  },
  {
   "cell_type": "code",
   "execution_count": 12,
   "metadata": {},
   "outputs": [
    {
     "name": "stdout",
     "output_type": "stream",
     "text": [
      "+--------------------+--------------------+--------------------+--------------------+----------------+--------------------+-------+-------------+---------------+--------------------+-----------+------------+-----+-----+\n",
      "|             address|          attributes|         business_id|          categories|            city|               hours|is_open|     latitude|      longitude|                name|postal_code|review_count|stars|state|\n",
      "+--------------------+--------------------+--------------------+--------------------+----------------+--------------------+-------+-------------+---------------+--------------------+-----------+------------+-----+-----+\n",
      "|5255 E Broadway Blvd|{NULL, NULL, NULL...|tUFrWirKiKi_TAnsV...|Department Stores...|          Tucson|{8:0-23:0, 8:0-22...|      0|    32.223236|    -110.880452|              Target|      85711|          22|  3.5|   AZ|\n",
      "|8522 Eager Road, ...|{NULL, NULL, NULL...|n_0UpQx1hsNbnPUSl...|Sporting Goods, F...|       Brentwood|{10:0-18:0, 0:0-0...|      1|    38.627695|     -90.340465|     Famous Footwear|      63144|          13|  2.5|   MO|\n",
      "|21705 Village Lak...|{NULL, NULL, NULL...|UJsufbvfyfONHeWdv...|Department Stores...|   Land O' Lakes|{9:30-21:30, 9:30...|      1|28.1904587953| -82.4573802199|           Marshalls|      34639|           6|  3.5|   FL|\n",
      "|        712 Adams St|{NULL, NULL, NULL...|M0XSSHqrASOnhgbWD...|Vape Shops, Tobac...|     New Orleans|{10:0-19:0, 10:0-...|      1|29.9414679565|  -90.129952757|      Herb Import Co|      70118|           5|  4.0|   LA|\n",
      "|8675 River Crossi...|{NULL, NULL, NULL...|qhDdDeI3K4jy2Kyzw...|Shopping, Books, ...|    Indianapolis|{10:0-21:0, 10:0-...|      1|     39.91382|     -86.105739|Barnes & Noble Bo...|      46240|          38|  4.0|   IN|\n",
      "|    827-833 State St|{NULL, NULL, NULL...|noByYNtDLQAra9ccq...|Women's Clothing,...|   Santa Barbara|{11:0-18:0, 11:0-...|      1|34.4202089255|-119.7004597389|                 H&M|      93101|          24|  3.0|   CA|\n",
      "|  30 W Lancaster Ave|{NULL, NULL, NULL...|8sshLb4UU7emeUDvt...|Dance Wear, Sport...|           Paoli|{10:0-19:0, 0:0-0...|      1|40.0415845065| -75.4849526577|           DanceLine|      19301|          11|  4.5|   PA|\n",
      "|   4735 Concord Pike|{NULL, NULL, NULL...|mGFsPRHdE6SMV1gYQ...|Mobile Phones, Te...|      Wilmington|{10:0-20:0, 0:0-0...|      1|    39.822176|     -75.546007|            T-Mobile|      19803|           6|  2.0|   DE|\n",
      "|      5324 W 16th St|{NULL, NULL, NULL...|x1mhq4IpWctQOBM06...|Hair Salons, Hair...|    Indianapolis|{9:0-18:0, 9:0-18...|      1|39.7874644177|    -86.2514209|Diamond Hair Company|      46224|          25|  1.5|   IN|\n",
      "| 1014 Baltimore Pike|{NULL, NULL, NULL...|mglME3E7esPSpIF5b...|Fashion, Shopping...|     Springfield|{10:0-21:0, 10:0-...|      0|39.9152704301| -75.3426812589|              Pier 1|      19064|           8|  2.5|   PA|\n",
      "|1070 E Tucson Mar...|{NULL, NULL, NULL...|txyXRytGjwOXvS8s4...|Vitamins & Supple...|          Tucson|{7:0-19:0, 0:0-0:...|      1|    32.186794|    -110.954765|       Smoothie King|      85713|          29|  3.0|   AZ|\n",
      "|1150 Plymouth Mee...|{NULL, NULL, NULL...|DQ7PyYlp2bX96WZa7...|Ophthalmologists,...|Plymouth Meeting|{10:0-21:0, 10:0-...|      1|   40.1161788|    -75.2825254|        LensCrafters|      19462|           8|  2.5|   PA|\n",
      "|3904 W Hillsborou...|{NULL, NULL, NULL...|mjWvAkNqoA6Y5P03s...|  Uniforms, Shopping|           Tampa|                NULL|      1|27.9954501644|    -82.5081187|Educational Outfi...|      33614|          10|  2.0|   FL|\n",
      "|     4158 E Grant Rd|                NULL|eYxGFkxo6m3SYGVTh...|Towing, Hotels & ...|          Tucson|{8:30-18:0, 8:30-...|      1|   32.2503237|   -110.9036553|Big Boyz Toyz Mot...|      85712|           8|  4.5|   AZ|\n",
      "|4011 Hillsboro Pi...|{NULL, NULL, NULL...|B2qqjCl_BNNnXvWWf...|Shopping, Baby Ge...|       Nashville|{10:0-20:0, 0:0-0...|      1|   36.1036135|    -86.8162678|   Pottery Barn Kids|      37215|          13|  1.5|   TN|\n",
      "|   5203 99 Street NW|{NULL, NULL, NULL...|mFTaYsRDyeFaY2NDL...|Tabletop Games, S...|        Edmonton|{10:0-18:0, 10:0-...|      1|53.4893123495|-113.4855665582|    River City Games|    T6E 5B7|           5|  4.5|   AB|\n",
      "|    5789 E US Hwy 40|{NULL, NULL, NULL...|-ZXYcCyDjj1QimnJy...|Home Decor, Shopp...|      Plainfield|{10:0-17:0, 10:0-...|      1|39.6949931921| -86.4230714504|Gilley's Antique ...|      46168|          24|  4.5|   IN|\n",
      "|5624 E Washington St|{NULL, NULL, NULL...|vR9_bhoszcpXbB_AP...|Fashion, Shopping...|    Indianapolis|{11:0-17:0, 11:0-...|      1|39.7709745063| -86.0711718384|          James Dant|      46219|          31|  5.0|   IN|\n",
      "|5191 Meadowood Ma...|{NULL, NULL, u'no...|knQ4vIgx-r85kjlWV...|Sporting Goods, S...|            Reno|{10:0-21:0, 0:0-0...|      1|    39.476518|   -119.7840369|Silver and Blue O...|      89502|           5|  4.5|   NV|\n",
      "|8701 Keystone Cro...|{NULL, NULL, NULL...|jiLGdnf42eYftkqfU...|Women's Clothing,...|    Indianapolis|{8:0-21:0, 10:0-1...|      1|    39.913836|    -86.1079073|   Saks Fifth Avenue|      46240|          29|  3.5|   IN|\n",
      "|          94 York Rd|{NULL, NULL, NULL...|I6DCYks9lqZeoZiVz...|Shopping, Auction...|    Willow Grove|{9:0-16:0, 9:0-17...|      1|   40.1428489|    -75.1143791|       Its Sold Here|      19090|          10|  1.5|   PA|\n",
      "|79 Route 73, Ste ...|{NULL, NULL, NULL...|H0NEOp4e3Zu598u6k...|Eyewear & Opticia...|        Voorhees|{9:0-19:0, 0:0-0:...|      1|    39.824552|     -74.929032|America's Best Co...|      08043|          17|  3.5|   NJ|\n",
      "|   41232 US Hwy 19 N|{NULL, NULL, NULL...|4dVrWc4Nhuw9apfk9...|Grocery, Food, Sh...|  Tarpon Springs|{0:0-0:0, 0:0-0:0...|      1|   28.1477204|    -82.7425681| Walmart Supercenter|      34689|          29|  2.0|   FL|\n",
      "|1675 S Christophe...|{NULL, NULL, NULL...|xfmkEGiIERBaBMLhw...|Eyewear & Opticia...|    Philadelphia|{9:0-20:0, 9:0-20...|      1|39.9198090864|  -75.157802746|Walmart Vision & ...|      19148|           6|  4.5|   PA|\n",
      "|2109 Veterans Mem...|{NULL, NULL, NULL...|RXpADfOCZBGi82-CG...|Flowers & Gifts, ...|        Metairie|{10:0-18:0, 10:0-...|      1|30.0032388544|  -90.146487573|    Monogram Express|      70002|           8|  4.5|   LA|\n",
      "|                    |{NULL, NULL, NULL...|bYjnX_J1bHZob10Do...|Parenting Classes...|   Santa Barbara|{10:0-18:0, 0:0-0...|      1|    34.420334|   -119.7107494|Tinkle Belle Diap...|      93101|          17|  5.0|   CA|\n",
      "|4146 E Speedway Blvd|{NULL, NULL, NULL...|luGY5CJlb4CJ3LrBc...|Furniture Stores,...|          Tucson|{9:30-18:0, 9:30-...|      1|   32.2358661|   -110.9036755|Desert Design Center|      85712|           5|  3.0|   AZ|\n",
      "|7955 E Broadway B...|{NULL, NULL, NULL...|wEfK2HIYNzkA1QYfU...|Hardware Stores, ...|          Tucson|{7:0-18:0, 9:0-17...|      1|   32.2215422|   -110.8221011|            Leslie's|      85710|          15|  2.5|   AZ|\n",
      "| 400 W Northfield Dr|{NULL, NULL, NULL...|dM5OKNzk9AL2aiq-f...|Discount Store, D...|      Brownsburg|{6:0-23:0, 6:0-23...|      1|   39.8591499|    -86.3964221| Walmart Supercenter|      46112|          14|  1.5|   IN|\n",
      "|            820 S St|{NULL, NULL, NULL...|h-y5azB-VlQAT3m7F...|Fashion, Shopping...|    Philadelphia|                NULL|      1|    39.942515|     -75.156468|P's & Q's - Premi...|      19147|          16|  5.0|   PA|\n",
      "+--------------------+--------------------+--------------------+--------------------+----------------+--------------------+-------+-------------+---------------+--------------------+-----------+------------+-----+-----+\n",
      "only showing top 30 rows\n",
      "\n"
     ]
    }
   ],
   "source": [
    "df = spark.read.json('D:/china/intershipBigData/yelp/yelp_academic_dataset_business.json')\n",
    "shopping = [\"Shopping\"]\n",
    "regex = \",\".join(shopping)\n",
    "bar_category = df.filter(col('categories').rlike(regex)).show(30)"
   ]
  },
  {
   "cell_type": "code",
   "execution_count": 8,
   "metadata": {},
   "outputs": [
    {
     "name": "stdout",
     "output_type": "stream",
     "text": [
      "+--------------------+--------------------+--------------------+--------------------+----------------+--------------------+-------+-------------+--------------+--------------------+-----------+------------+-----+-----+\n",
      "|             address|          attributes|         business_id|          categories|            city|               hours|is_open|     latitude|     longitude|                name|postal_code|review_count|stars|state|\n",
      "+--------------------+--------------------+--------------------+--------------------+----------------+--------------------+-------+-------------+--------------+--------------------+-----------+------------+-----+-----+\n",
      "|1616 Chapala St, ...|{NULL, NULL, NULL...|Pns2l4eNsfO8kk83d...|Doctors, Traditio...|   Santa Barbara|                NULL|      0|   34.4266787|  -119.7111968|Abby Rappoport, L...|      93101|           7|  5.0|   CA|\n",
      "|2 Bala Plz, Ste P...|{False, NULL, NUL...|Kq51_lGAgAigqmENI...|Health & Medical,...|     Bala Cynwyd|{NULL, 0:0-0:0, N...|      1|     40.00687|    -75.217262|  Bala Better Health|      19004|          13|  4.0|   PA|\n",
      "|1150 Plymouth Mee...|{NULL, NULL, NULL...|DQ7PyYlp2bX96WZa7...|Ophthalmologists,...|Plymouth Meeting|{10:0-21:0, 10:0-...|      1|   40.1161788|   -75.2825254|        LensCrafters|      19462|           8|  2.5|   PA|\n",
      "|79 Route 73, Ste ...|{NULL, NULL, NULL...|H0NEOp4e3Zu598u6k...|Eyewear & Opticia...|        Voorhees|{9:0-19:0, 0:0-0:...|      1|    39.824552|    -74.929032|America's Best Co...|      08043|          17|  3.5|   NJ|\n",
      "|  5332 Avion Park Dr|{NULL, NULL, NULL...|P8brGDYVWjeW9GrKi...|Medical Centers, ...|           Tampa|{8:0-20:0, 8:0-20...|      0|   27.9586132|   -82.5325949|Laser Spine Insti...|      33607|          36|  3.0|   FL|\n",
      "|4582 N 1st Ave, S...|{True, NULL, NULL...|E_kLUlU60fzoZYAOx...|Pain Management, ...|          Tucson|{7:0-16:30, 7:0-1...|      1|   32.2891826|  -110.9572299|Pain Institute of...|      85718|          43|  2.5|   AZ|\n",
      "|    1839 Central Ave|{True, NULL, NULL...|M_THnNDHs29aylcK-...|Doctors, Internal...|Saint Petersburg|                NULL|      1|   27.7713566|   -82.6586115|Professional Heal...|      33713|           6|  1.5|   FL|\n",
      "|940 Town Center D...|{NULL, NULL, NULL...|mq5Z9X7yxgyApILQ1...|Health & Medical,...|       Langhorne|{7:0-16:0, 12:0-2...|      1|40.1884442241|-74.8773210502|Wendy Warner- Med...|      19047|           7|  3.0|   PA|\n",
      "| 10581 Double R Blvd|{NULL, NULL, NULL...|WdrpkH-q7FQY5nclm...|Doctors, Pediatri...|            Reno|{8:30-16:30, 8:30...|      1|   39.4289221|   -119.754142| Daniel Colombo , MD|      89521|           7|  4.0|   NV|\n",
      "|6365 E Tanque Ver...|                NULL|pIUQz-zGw-Nu_Pu-q...|Health & Medical,...|          Tucson|{8:0-12:0, 8:0-17...|      1|   32.2457767|  -110.8573874|Western Endocrine...|      85715|          15|  2.0|   AZ|\n",
      "|  9601 Bustleton Ave|{NULL, NULL, NULL...|kR4tXc1fLeR2QNu8c...|Radiologists, Doc...|    Philadelphia|{9:0-17:0, 9:0-19...|      0|   40.0870701|   -75.0353514|Bustleton Radiolo...|      19115|          13|  2.0|   PA|\n",
      "|1348 Bainbridge S...|{True, NULL, NULL...|yooufdsf3eAVq_9RQ...|Local Services, C...|    Philadelphia|{8:0-17:0, 0:0-0:...|      1|   39.9426271|   -75.1650829|      Mazzoni Center|      19147|          46|  3.0|   PA|\n",
      "|10500 Ulmerton Rd...|{True, NULL, NULL...|-Ijm5ICZUZffTo3iu...|Doctors, Health &...|           Largo|{8:0-19:0, 0:0-0:...|      1| 27.892834976|-82.7845353864|MedExpress Urgent...|      33771|          39|  2.5|   FL|\n",
      "|8433 Harcourt Rd,...|{True, NULL, NULL...|nnHHPz4SKmDGxod16...|Health & Medical,...|    Indianapolis|                NULL|      1|   39.9096672|   -86.1925912|Dermatology Assoc...|      46260|           6|  3.0|   IN|\n",
      "|10012 Kennerly Rd...|{True, NULL, NULL...|8t6mbhBNAT027aeDQ...|Health & Medical,...|     Saint Louis|{8:30-16:0, 8:30-...|      1|38.5061431698|-90.3806634553|Womens Health Par...|      63128|           8|  2.5|   MO|\n",
      "|  6225 Sharlands Ave|{True, NULL, NULL...|NIV7uxsE8rn8cB1t-...|Health & Medical,...|            Reno|{8:0-17:0, 8:0-17...|      1|     39.51769|   -119.882714|Saint Marys Medic...|      89523|          26|  2.5|   NV|\n",
      "|   876 S Parsons Ave|{NULL, NULL, NULL...|u4cktT_mzitYexUsr...|Doctors, Health &...|         Brandon|                NULL|      1|   27.9263727|   -82.2859355|Digestive Disease...|      33511|          11|  2.0|   FL|\n",
      "|500 Old York Rd, ...|                NULL|YKsZFlfTUNAzuDTTk...|Urgent Care, Pedi...|      Jenkintown|{16:0-22:0, 16:0-...|      1|   40.0992739|   -75.1256228|St Christopher Pe...|      19046|           7|  3.0|   PA|\n",
      "|       6274 - 199 St|{NULL, NULL, NULL...|0C1Ux9EjTz7WHtmSH...|Doctors, Health &...|        Edmonton|{9:0-17:0, 9:0-17...|      1|   53.4957867|  -113.6666016|Hampton Medical C...|        T6M|           7|  2.5|   AB|\n",
      "|1000 E Park Blvd,...|{NULL, NULL, NULL...|3L-cbPMvNbsG9vmOF...|Fertility, Obstet...|           Boise|{8:0-17:0, 8:0-17...|      1|    43.603023|   -116.187203|Idaho Center For ...|      83712|          13|  3.5|   ID|\n",
      "|8950 Doctor Marti...|{True, NULL, NULL...|zKBIdA2j49REmU2bF...|Rehabilitation Ce...|  St. Petersburg|{8:0-12:0, 8:0-19...|      1|    27.854197|-82.6474272852|BayLife Physical ...|      33702|           9|  5.0|   FL|\n",
      "|      3425 Conrad St|{True, NULL, NULL...|EraDGJAHjf5IaA9VB...|Gastroenterologis...|    Philadelphia|{9:0-13:0, 9:0-19...|      1|   40.0120136|   -75.1890675|East Falls Chirop...|      19129|          16|  4.5|   PA|\n",
      "|151 Fries Mill Rd...|{False, NULL, NUL...|QB7X-xziEgiUy3xUH...|Naturopathic/Holi...|    Turnersville|{9:0-16:0, 9:0-16...|      0|   39.7414309|     -75.04798|New Jersey Altern...|      08012|          10|  1.5|   NJ|\n",
      "| 10451 Double R Blvd|                NULL|xCoLFCylaO3HI19N1...|Doctors, Pain Man...|            Reno|{8:0-14:0, 8:0-17...|      1|   39.4301258|  -119.7537106|Sweetwater Pain a...|      89521|           5|  3.5|   NV|\n",
      "|3409 N Hullen St,...|{True, NULL, NULL...|PJnBmcaUrXVpqwqL2...|Health & Medical,...|        Metairie|{8:30-17:0, 8:30-...|      1|   30.0113076|   -90.1574353|   Caplan Eye Clinic|      70002|           8|  2.5|   LA|\n",
      "|        5959 Webb Rd|{True, NULL, NULL...|ymFuVzms2gjCxyD5b...|Oncologist, Healt...|Town 'n' Country|{8:30-16:30, 8:30...|      1|   28.0024179|   -82.5751776|Clayman Thyroid C...|      33615|          67|  5.0|   FL|\n",
      "|450 Professional ...|{NULL, NULL, NULL...|LnTRPLsxKt52AoX9o...|Health & Medical,...|  Goodlettsville|{7:30-16:0, 7:30-...|      1|   36.3123324|    -86.700036|Long Hollow Famil...|      37072|           6|  2.5|   TN|\n",
      "| 10479 Double R Blvd|{True, NULL, NULL...|qAltKw1eFbee8rylm...|Dermatologists, M...|            Reno|{8:0-17:0, 0:0-0:...|      1|   39.4292768|  -119.7539518|Skin Cancer & Der...|      89521|          20|  3.5|   NV|\n",
      "|8250 Bryan Dairy ...|{True, NULL, NULL...|UXqjaZXdAMGOV4ynz...|Doctors, Health &...|           Largo|{8:0-17:0, 8:0-17...|      1|   27.8715848|   -82.7530075|Advanced Dermatol...|      33777|           5|  2.5|   FL|\n",
      "|       253 S 10th St|{NULL, NULL, NULL...|WZEhrN61ajiq-7MuU...|Family Practice, ...|    Philadelphia|                NULL|      1|   39.9468097|   -75.1575251|    Mark Watkins, DO|      19107|          19|  3.5|   PA|\n",
      "+--------------------+--------------------+--------------------+--------------------+----------------+--------------------+-------+-------------+--------------+--------------------+-----------+------------+-----+-----+\n",
      "only showing top 30 rows\n",
      "\n"
     ]
    }
   ],
   "source": [
    "df = spark.read.json('D:/china/intershipBigData/yelp/yelp_academic_dataset_business.json')\n",
    "hotel = [\"Doctors\"]\n",
    "regex = \",\".join(hotel)\n",
    "bar_category = df.filter(col('categories').rlike(regex)).show(30)"
   ]
  },
  {
   "cell_type": "code",
   "execution_count": 10,
   "metadata": {},
   "outputs": [
    {
     "name": "stdout",
     "output_type": "stream",
     "text": [
      "+--------------------+--------------------+--------------------+--------------------+------------+--------------------+-------+-------------+--------------+--------------------+-----------+------------+-----+-----+\n",
      "|             address|          attributes|         business_id|          categories|        city|               hours|is_open|     latitude|     longitude|                name|postal_code|review_count|stars|state|\n",
      "+--------------------+--------------------+--------------------+--------------------+------------+--------------------+-------+-------------+--------------+--------------------+-----------+------------+-----+-----+\n",
      "|         935 Race St|{NULL, NULL, u'no...|MTSW4McQd7CbVtyjq...|Restaurants, Food...|Philadelphia|{7:0-21:0, 7:0-20...|      1|   39.9555052|   -75.1555641|  St Honore Pastries|      19107|          80|  4.0|   PA|\n",
      "|       615 S Main St|{NULL, NULL, u'no...|CF33F8-E6oudUQ46H...|Burgers, Fast Foo...|Ashland City|{9:0-0:0, 0:0-0:0...|      1|    36.269593|    -87.058943|      Sonic Drive-In|      37015|           6|  2.0|   TN|\n",
      "|   8025 Mackenzie Rd|{NULL, NULL, u'fu...|k0hlBqXX-Bt0vf1op...|Pubs, Restaurants...|      Affton|                NULL|      0|   38.5651648|   -90.3210868|Tsevi's Pub And G...|      63123|          19|  3.0|   MO|\n",
      "| 2312 Dickerson Pike|{NULL, NULL, u'no...|bBDDEgkFA1Otx9Lfe...|Ice Cream & Froze...|   Nashville|{6:0-16:0, 0:0-0:...|      1|   36.2081024|   -86.7681696|      Sonic Drive-In|      37207|          10|  1.5|   TN|\n",
      "|                    |{NULL, NULL, 'non...|eEOYSgkmpB90uNA7l...|Vietnamese, Food,...|   Tampa Bay|{11:0-14:0, 11:0-...|      1|   27.9552692|   -82.4563199|Vietnamese Food T...|      33602|          10|  4.0|   FL|\n",
      "|        8901 US 31 S|{NULL, NULL, 'non...|il_Ro8jwPlHresjw9...|American (Traditi...|Indianapolis|{6:0-22:0, 6:0-22...|      1|39.6371332838| -86.127217412|             Denny's|      46227|          28|  2.5|   IN|\n",
      "|       2575 E Bay Dr|{NULL, NULL, u'no...|0bPLkL0QhhPO5kt1_...|Food, Delis, Ital...|       Largo|{10:0-20:0, 10:0-...|      0|   27.9161159|   -82.7604608|Zio's Italian Market|      33771|         100|  4.5|   FL|\n",
      "|         205 Race St|{NULL, NULL, 'ful...|MUTTqe8uqyMdBl186...|Sushi Bars, Resta...|Philadelphia|{13:30-23:0, NULL...|      1|    39.953949|   -75.1432262|            Tuna Bar|      19106|         245|  4.0|   PA|\n",
      "|       1224 South St|{NULL, NULL, u'no...|ROeacJQwBeh05Rqg7...| Korean, Restaurants|Philadelphia|{11:30-20:30, 11:...|      1|    39.943223|    -75.162568|                 BAP|      19147|         205|  4.5|   PA|\n",
      "| 10359 104 Street NW|{NULL, NULL, u'be...|WKMJwqnfZKsAae75R...|Coffee & Tea, Foo...|    Edmonton|{8:0-18:0, 8:0-18...|      0|   53.5460453|  -113.4991693|Roast Coffeehouse...|    T5J 1B9|          40|  4.0|   AB|\n",
      "|      6625 E 82nd St|{NULL, NULL, NULL...|kfNv-JZpuN6TVNSO6...|Steakhouses, Asia...|Indianapolis|{11:0-21:0, 11:0-...|      1|39.9043203184|   -86.0530799|     Hibachi Express|      46250|          20|  4.0|   IN|\n",
      "|  5505 S Virginia St|{NULL, NULL, 'ful...|9OG5YkX1g2GReZM0A...|Restaurants, Italian|        Reno|{11:0-21:0, 11:0-...|      1|   39.4761165|  -119.7893392|Romano's Macaroni...|      89502|         339|  2.5|   NV|\n",
      "|1160 Gallatin Pike S|{NULL, NULL, u'be...|4iRzR7OaS-QaSXuvY...|Hot Dogs, Restaur...|   Nashville|                NULL|      0|   36.2485696|   -86.7199857|           Super Dog|      37115|           6|  4.0|   TN|\n",
      "|       215 1st Ave S|{NULL, NULL, u'fu...|tMkwHmWFUEXrC9Zdu...|Restaurants, Japa...|   Nashville|{16:0-23:0, NULL,...|      0|   36.1598858|   -86.7731974|  The Green Pheasant|      37201|         161|  4.0|   TN|\n",
      "|        767 S 9th St|{NULL, NULL, u'fu...|QdN72BWoyFypdGJhh...|Cocktail Bars, Ba...|Philadelphia|{12:0-2:0, 16:0-0...|      0|39.9398245705|-75.1574465632|             Bar One|      19147|          65|  4.0|   PA|\n",
      "|   3001 Highway 31 W|{NULL, NULL, NULL...|sqSqqLy0sN8n2IZrA...|Pizza, Chicken Wi...| White House|{10:0-1:0, 10:0-0...|      1|36.4647467622|-86.6591868908|      Domino's Pizza|      37188|           8|  3.5|   TN|\n",
      "|        4105 Main St|{NULL, NULL, u'no...|Mjboz24M9NlBeiOJK...|Pizza, Restaurant...|Philadelphia|{17:0-0:30, NULL,...|      0|   40.0224662|    -75.218314|    DeSandro on Main|      19127|          41|  3.0|   PA|\n",
      "|   10 Rittenhouse Pl|{NULL, NULL, u'no...|kV_Q1oqis8Qli8dUo...|  Pizza, Restaurants|     Ardmore|{11:0-1:0, 11:0-0...|      1|   40.0067071|    -75.289671|       Ardmore Pizza|      19003|         109|  3.5|   PA|\n",
      "|  901 N Delaware Ave|{NULL, NULL, NULL...|aPNXGTDkf-4bjhyMB...|Eatertainment, Ar...|Philadelphia|{16:0-19:0, 0:0-0...|      1|   39.9625821|   -75.1356571|          Craft Hall|      19123|          65|  3.5|   PA|\n",
      "|116 N Pottstown Pike|{NULL, NULL, u'fu...|2xVsWBNFwZOxIOdd9...|Restaurants, Burgers|       Exton|                NULL|      0|    40.029962|    -75.630607|Cheeseburger In P...|      19341|          20|  2.5|   PA|\n",
      "|        312 Piasa St|{NULL, NULL, u'fu...|ljxNT9p0y7YMPx0fc...|Restaurants, Spec...|       Alton|{16:0-22:0, 0:0-0...|      1|    38.896563|-90.1862032987|Tony's Restaurant...|      62002|          94|  3.0|   IL|\n",
      "|1625 W Valencia R...|{NULL, NULL, 'bee...|wghnIlMb_i5U46HMB...|Restaurants, Chinese|      Tucson|{11:0-21:0, 11:0-...|      0|   32.1323047|  -110.9999851|China Dragon Rest...|      85746|          23|  3.0|   AZ|\n",
      "|       2031 Broadway|{NULL, NULL, u'be...|lk9IwjZXqUMqqOhM7...|Coffee & Tea, Res...|   Nashville|{7:0-17:0, 7:0-17...|      0|   36.1483712|   -86.7988947|    Caviar & Bananas|      37203|         159|  3.5|   TN|\n",
      "|    201 Jefferson St|{NULL, NULL, NULL...|ABxoFuzZy5mqQ8C5F...|Restaurants, Italian| Bala Cynwyd|{15:0-20:30, NULL...|      1|   40.0283575|   -75.2380841|        Core de Roma|      19004|          12|  5.0|   PA|\n",
      "|    10588 109 Street|{NULL, NULL, u'no...|cVBxfMC4lp3DnocjY...|Coffee & Tea, Caf...|    Edmonton|{10:0-20:0, 0:0-0...|      0|   53.5496333|  -113.5087799|   Paws The Cat Cafe|    T5H 3B2|          20|  5.0|   AB|\n",
      "|10440 N Dale Mabr...|{NULL, NULL, u'fu...|uI9XODGY_2_ieTE6x...|Restaurants, Amer...|       Tampa|{11:30-22:0, 11:3...|      0|28.0462028173|-82.5050526736|         Roman Forum|      33618|          23|  4.0|   FL|\n",
      "|2038 N Dale Mabry...|{NULL, NULL, u'be...|JgpnXv_0XhV3SfbfB...|  Restaurants, Pizza|       Tampa|{11:0-3:0, 11:0-2...|      0|   27.9605142|    -82.506127|         Joe's Pizza|      33607|          35|  4.0|   FL|\n",
      "|   1700 Lapalco Blvd|{NULL, NULL, 'ful...|Si6LXSR9gvAbmgO5D...|Restaurants, Soup...|      Harvey|{11:0-22:0, 11:0-...|      0|29.8754822266|     -90.04938|Lafitte's Landing...|      70058|          38|  2.5|   LA|\n",
      "|      6880 E 82nd St|{NULL, NULL, 'ful...|seKihQKpGGnCeLuEL...|Sports Bars, Amer...|Indianapolis|{11:0-19:0, 0:0-0...|      1|   39.9062952|   -86.0474634|          Twin Peaks|      46250|         257|  3.5|   IN|\n",
      "|838 Broad Ripple Ave|{NULL, NULL, u'no...|L_TT0BFmFwORAMaA8...|Gastropubs, Cockt...|Indianapolis|                NULL|      0|   39.8699114|   -86.1435773|    Village Tap Room|      46220|          23|  2.5|   IN|\n",
      "+--------------------+--------------------+--------------------+--------------------+------------+--------------------+-------+-------------+--------------+--------------------+-----------+------------+-----+-----+\n",
      "only showing top 30 rows\n",
      "\n"
     ]
    }
   ],
   "source": [
    "df = spark.read.json('D:/china/intershipBigData/yelp/yelp_academic_dataset_business.json')\n",
    "medical = [\"Restaurants\"]\n",
    "regex = \",\".join(medical)\n",
    "bar_category = df.filter(col('categories').rlike(regex)).show(30)"
   ]
  },
  {
   "cell_type": "code",
   "execution_count": 11,
   "metadata": {},
   "outputs": [
    {
     "name": "stdout",
     "output_type": "stream",
     "text": [
      "+--------------------+--------------------+--------------------+--------------------+--------------+--------------------+-------+-------------+---------------+--------------------+-----------+------------+-----+-----+\n",
      "|             address|          attributes|         business_id|          categories|          city|               hours|is_open|     latitude|      longitude|                name|postal_code|review_count|stars|state|\n",
      "+--------------------+--------------------+--------------------+--------------------+--------------+--------------------+-------+-------------+---------------+--------------------+-----------+------------+-----+-----+\n",
      "|     1241 Airline Dr|                NULL|8wGISYjYkE2tSqn3c...|Automotive, Car R...|        Kenner|{8:0-17:0, 8:0-17...|      1|    29.981183|    -90.2540123|    Nifty Car Rental|      70062|          14|  3.5|   LA|\n",
      "|    100 Iberville St|{NULL, NULL, NULL...|w_AMNoI1iG9eay7nc...|Event Planning & ...|   New Orleans|                NULL|      1|    29.951359|    -90.0646715|           River 127|      70130|          12|  3.0|   LA|\n",
      "|719 E Baltimore Pike|{NULL, NULL, NULL...|xM6LoUcnpDpMBzXs_...|Hotels, Hotels & ...|Kennett Square|                NULL|      1|39.8562475317| -75.6946098804|Fairfield Inn & S...|      19348|          37|  3.0|   PA|\n",
      "|     723 St Peter St|{NULL, NULL, NULL...|uczmbBk5O3tYhGue1...|Hotels & Travel, ...|   New Orleans|{10:0-20:0, 0:0-0...|      1|    29.958431|     -90.065173|New Orleans Spiri...|      70130|          38|  4.0|   LA|\n",
      "|     4158 E Grant Rd|                NULL|eYxGFkxo6m3SYGVTh...|Towing, Hotels & ...|        Tucson|{8:30-18:0, 8:30-...|      1|   32.2503237|   -110.9036553|Big Boyz Toyz Mot...|      85712|           8|  4.5|   AZ|\n",
      "|       1200 Lynch St|{NULL, NULL, NULL...|sB45WFgysT617bKWP...|Bars, Beer Garden...|   Saint Louis|{9:0-17:0, 0:0-0:...|      1|   38.6001971|    -90.2135377|Budweiser Brewery...|      63118|         605|  4.5|   MO|\n",
      "|    14005 McNulty Rd|{NULL, NULL, NULL...|-aeZuatjCDMV1X4gC...|Buses, Transporta...|  Philadelphia|{8:30-17:0, 8:30-...|      1|   40.1064092|    -74.9739371|David Thomas Trai...|      19154|           6|  4.5|   PA|\n",
      "|  1244 Esplanade Ave|{NULL, NULL, NULL...|hUQ9Z7kQeabvhPOAQ...|Hotels, Hotels & ...|   New Orleans|                NULL|      1|   29.9670548|    -90.0658282|   Rathbone Mansions|      70116|          67|  3.5|   LA|\n",
      "|    2800 Opryland Dr|{NULL, NULL, 'ful...|ORL4JE6tz3rJxVqkd...|Venues & Event Sp...|     Nashville|{0:0-0:0, 0:0-0:0...|      1|36.2115923083| -86.6943191727|Gaylord Opryland ...|      37214|        1639|  3.0|   TN|\n",
      "|     14700 Gulf Blvd|{NULL, NULL, NULL...|znL4YrNbA2uwOQ3Cc...|Home Services, Va...| Madeira Beach|{9:0-16:0, 0:0-0:...|      1|    27.798503|    -82.7987502|Seaview Condominiums|      33708|           8|  4.5|   FL|\n",
      "|   303 Interstate Dr|{NULL, NULL, NULL...|Nh1rc9aSeO-Y5lYmX...|Hotels & Travel, ...|     Nashville|{0:0-0:0, 0:0-0:0...|      1|36.1688337591|  -86.766910851|Quality Inn Nashv...|      37213|          53|  2.0|   TN|\n",
      "|         1 Garden St|{NULL, NULL, NULL...|25Uww0C0wvF9CZ_3B...|Motorcycle Rental...| Santa Barbara|{9:0-17:0, 9:0-17...|      1|34.4143420056|-119.6873324599|  Enjoy The Mountain|      93105|          48|  4.5|   CA|\n",
      "|                    |{NULL, NULL, NULL...|MyE_zdul_JO-dOHOu...|Local Flavor, Tea...|  Philadelphia|{9:0-17:0, 9:0-17...|      1|   40.1197128|    -75.0097103|Watson Adventures...|      19019|           8|  3.0|   PA|\n",
      "|        777 E 4th St|{NULL, NULL, NULL...|vjLSYNGFkPu4Y5HKo...|Event Planning & ...|          Reno|{0:0-0:0, 0:0-0:0...|      1|39.5323474847| -119.804255405|          Rancho 777|      89512|           5|  2.0|   NV|\n",
      "|     13018 Rest Area|{NULL, NULL, NULL...|xloFoRiYlH4IKGz3F...|Hotels, Rest Stop...|    Terra Ceia|                NULL|      1|27.5843003458| -82.6139500829|1-275 Rest Area M...|      34250|           5|  4.0|   FL|\n",
      "|                    |                NULL|usv5G5cO314pPHRTG...|Tours, Walking To...|  Philadelphia|                NULL|      1|   40.1197128|    -75.0097103|          Best Tours|      19019|          38|  1.0|   PA|\n",
      "|     4301 Island Ave|{NULL, NULL, NULL...|6I_DA3uqOox50rBvj...|Event Planning & ...|  Philadelphia|{0:0-0:0, 0:0-0:0...|      1|39.8911246892| -75.2342512699|Aloft Philadelphi...|      19153|         175|  3.0|   PA|\n",
      "|      839 Bourbon St|                NULL|bwL2TymVrYekkkKzt...|Guest Houses, Hot...|   New Orleans|                NULL|      1|    29.960205|     -90.064396|Bourgoyne Guest H...|      70116|           7|  4.0|   LA|\n",
      "|      504 Madison St|                NULL|Qa1YQzo00sm9O0JUl...|Historical Tours,...|   New Orleans|{9:0-22:0, 9:0-22...|      1|   29.9580151|    -90.0618951|    Taste of Nawlins|      70116|         178|  4.0|   LA|\n",
      "| 9213 W Fairview Ave|                NULL|6zBCuzJwov08YisHZ...|Car Rental, Hotel...|         Boise|{8:0-18:0, 0:0-0:...|      1|43.6190157662|-116.2967492044|Enterprise Rent-A...|      83704|          13|  4.0|   ID|\n",
      "|5851 S Virginia S...|{NULL, NULL, NULL...|XTWGzxXdQN0DVVH2G...|Hotels, Hotels & ...|          Reno|{0:0-0:0, 0:0-0:0...|      0|    39.472575|    -119.788467|Days Inn by Wyndh...|      89502|          27|  2.0|   NV|\n",
      "|5116 Gateway Boul...|{NULL, NULL, NULL...|PXI7kvSV-NvWcqbI9...|Hotels, Event Pla...|      Edmonton|{0:0-0:0, 0:0-0:0...|      1|   53.4885913|   -113.4935085|Best Western Ceda...|    T6H 2H4|          17|  3.0|   AB|\n",
      "|     1995 W River Rd|{NULL, NULL, NULL...|cvrIE1rLPWk-Nxb_Z...|Party & Event Pla...|        Tucson|{0:0-0:0, 0:0-0:0...|      1| 32.303741804| -111.009323614|Candlewood Suites...|      85704|          29|  4.5|   AZ|\n",
      "|    200 Fairfield Rd|{NULL, NULL, NULL...|1tLrjXG-I9hkOoZxl...|American (Traditi...|    Norristown|                NULL|      1|   40.1083808|     -75.318943|    Olde Black Horse|      19401|           9|  4.0|   PA|\n",
      "|  1000 Hershel Drive|{NULL, NULL, NULL...|wOUJ-duIHPdRiV0af...|Event Planning & ...|    Mt. Juliet|{0:0-0:0, 0:0-0:0...|      1|     36.16979|      -86.51527|Quality Inn & Suites|      37122|          22|  1.5|   TN|\n",
      "|828 Bourbon St, A...|{NULL, NULL, NULL...|FbGjCCc7bbJVWq3Kt...|Walking Tours, To...|   New Orleans|{9:0-21:0, 0:0-0:...|      1|   29.9599126|     -90.064281|       Ernie's Tours|      70116|          52|  5.0|   LA|\n",
      "|           197 E Ave|{NULL, NULL, u'fu...|MObScX791gFEwtkoF...|Restaurants, Amer...|     Woodstown|{11:0-21:0, NULL,...|      1|     39.65126|      -75.31747|       Creekside Inn|      08098|          20|  3.5|   NJ|\n",
      "|600 Walnut St, St...|                NULL|rh3C_JK4NAoUJ-HNS...|Hotels & Travel, ...|  Philadelphia|                NULL|      1|    39.948321|     -75.151952|Historic Philadel...|      19106|           5|  4.5|   PA|\n",
      "|50 Three Tun Rd, ...|{NULL, NULL, NULL...|SBgr-5n-kV3EeZztY...|Bars, Breweries, ...|       Malvern|{15:0-21:0, 0:0-0...|      1|    40.035282| -75.5552598633|Locust Lane Craft...|      19355|          29|  4.5|   PA|\n",
      "|  7250 S Tucson Blvd|                NULL|-pgTW7620zWdXMOcz...|Tours, Travel Ser...|        Tucson|{0:0-0:0, 0:0-0:0...|      1|32.0872287083|-110.9234619141|  Arizona Stagecoach|      85756|          41|  2.5|   AZ|\n",
      "+--------------------+--------------------+--------------------+--------------------+--------------+--------------------+-------+-------------+---------------+--------------------+-----------+------------+-----+-----+\n",
      "only showing top 30 rows\n",
      "\n"
     ]
    }
   ],
   "source": [
    "df = spark.read.json('D:/china/intershipBigData/yelp/yelp_academic_dataset_business.json')\n",
    "hotel = [\"Hotels & Travel\"]\n",
    "regex = \",\".join(hotel)\n",
    "bar_category = df.filter(col('categories').rlike(regex)).show(30)"
   ]
  }
 ],
 "metadata": {
  "kernelspec": {
   "display_name": "Python 3",
   "language": "python",
   "name": "python3"
  },
  "language_info": {
   "codemirror_mode": {
    "name": "ipython",
    "version": 3
   },
   "file_extension": ".py",
   "mimetype": "text/x-python",
   "name": "python",
   "nbconvert_exporter": "python",
   "pygments_lexer": "ipython3",
   "version": "3.11.0"
  }
 },
 "nbformat": 4,
 "nbformat_minor": 2
}
