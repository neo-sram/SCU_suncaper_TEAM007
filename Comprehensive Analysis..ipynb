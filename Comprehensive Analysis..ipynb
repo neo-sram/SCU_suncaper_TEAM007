{
  "cells": [
    {
      "cell_type": "code",
      "execution_count": 3,
      "metadata": {
        "autoscroll": "auto"
      },
      "outputs": [
        {
          "name": "stdout",
          "output_type": "stream",
          "text": [
            "+--------------------+-----------+------------------+-----------------+--------------------+--------------------+----------------+\n",
            "|         business_id|rating_freq|        rating_avg|checkin_frequency|                name|                city|rank_within_city|\n",
            "+--------------------+-----------+------------------+-----------------+--------------------+--------------------+----------------+\n",
            "|VB5LN92Hfk4A34YtJ...|          6| 4.333333333333333|                1|  Ricci Hair Company|         AB Edmonton|               1|\n",
            "|X-kWHq70nkI8jN6-w...|         10|               3.0|                1|    Prive Salon - PA|              AMBLER|               1|\n",
            "|TJcRyJF-DYbXuABEe...|          8|               3.0|                1|     NAPA Auto Parts|             ARDMORE|               1|\n",
            "|jPFFeyh7RmmxzQmYg...|         24|3.4166666666666665|                1|Jack's Donuts - Avon|                AVON|               1|\n",
            "|JmzNw0WCPmZPZdq5n...|        394| 2.763959390862944|                1|         Kitchen Bar|            Abington|               1|\n",
            "|C2vKa-eZFVBrfFGYX...|        352|3.1676136363636362|                1|         Senor Salsa|            Abington|               2|\n",
            "|ETZK5PuCsVfQ7ElXc...|        195|3.6153846153846154|                1|Ban Ban Asian Bistro|            Abington|               3|\n",
            "|RCpFAdBZJM9ucpVMc...|        181| 4.441988950276243|                1|        Gummlai Thai|            Abington|               4|\n",
            "|sNOzfwyTZDwKtMiTw...|        160|           4.05625|                1|Vintage Bar and G...|            Abington|               5|\n",
            "|bFln2Z17KfFIcEz4T...|        230|3.7869565217391306|                1|Iron Hill Brewery...|   Abington Township|               1|\n",
            "|CLU2nd7McrW0tf4f4...|         24| 4.083333333333333|                1|TerraVida Holisti...|   Abington Township|               2|\n",
            "|ztpgAYui2YdOSGk7D...|          7| 4.571428571428571|                1|        Lorimer Park|   Abington Township|               3|\n",
            "|faReoVCPuY0XUE3CS...|        148| 4.716216216216216|                1|          Sushi Hana|              Affton|               1|\n",
            "|IlVFBKxhiLstwEqDq...|         88| 2.727272727272727|                1|Olive Garden Ital...|              Affton|               2|\n",
            "|Nt1_8k5BJDE03jRs2...|         71| 4.464788732394366|                1| Federhofer's Bakery|              Affton|               3|\n",
            "|duaBfE0uvFBgKeeQn...|         62| 4.370967741935484|                1|SharpShooter Pit ...|              Affton|               4|\n",
            "|UleHqBmIEjXdYMZzS...|         61| 4.262295081967213|                1|Sedara Sweets & I...|              Affton|               5|\n",
            "|PTQNzk4yOzXb95oWa...|         53|3.8679245283018866|                1|       9 Mile Garden|               Afton|               1|\n",
            "|2g81Npe8smhqDBj89...|          5|               1.8|                1|  Crosstown Autobody|Alberta Park Indu...|               1|\n",
            "|auBRFCUG20A_-4Mxo...|         51|3.2745098039215685|                1|    Penn Pines Diner|               Aldan|               1|\n",
            "+--------------------+-----------+------------------+-----------------+--------------------+--------------------+----------------+\n",
            "only showing top 20 rows\n",
            "\n"
          ]
        }
      ],
      "source": [
        "from pyspark.sql import SparkSession\n",
        "from pyspark.sql.functions import *\n",
        "from pyspark.sql.window import Window\n",
        "\n",
        "\n",
        "spark = SparkSession.builder.appName(\"Top 5 Merchants in Each City\").enableHiveSupport().getOrCreate()\n",
        "\n",
        "review_df = spark.read.json('D:/china/intershipBigData/yelp/yelp_academic_dataset_review.json')\n",
        "checkin_df = spark.read.json('D:/china/intershipBigData/yelp/yelp_academic_dataset_checkin.json')\n",
        "business_df = spark.read.json('D:/china/intershipBigData/yelp/yelp_academic_dataset_business.json')\n",
        "rating_freq = review_df.groupBy(\"business_id\").agg(count(\"*\").alias(\"rating_freq\"))\n",
        "rating_avg = review_df.groupBy(\"business_id\").agg(avg(\"stars\").alias(\"rating_avg\"))\n",
        "checkin_frequency = checkin_df.groupBy(\"business_id\").agg(count(\"*\").alias(\"checkin_frequency\"))\n",
        "data = rating_freq.join(rating_avg, \"business_id\") \\\n",
        "    .join(checkin_frequency, rating_freq[\"business_id\"] == checkin_frequency[\"business_id\"], \"inner\") \\\n",
        "    .join(business_df.select(\"business_id\", \"name\", \"city\"), rating_freq[\"business_id\"] == business_df[\"business_id\"], \"inner\") \\\n",
        "    .drop(checkin_frequency[\"business_id\"]) \\\n",
        "    .drop(business_df[\"business_id\"])\n",
        "window_spec = Window.partitionBy(\"city\").orderBy(desc(\"rating_freq\"), desc(\"rating_avg\"), desc(\"checkin_frequency\"))\n",
        "ranked_merchants = data.withColumn(\"rank_within_city\", rank().over(window_spec))\n",
        "top_merch = ranked_merchants.filter(col(\"rank_within_city\") <= 5)\n",
        "top_merch.show()\n"
      ]
    },
    {
      "cell_type": "code",
      "execution_count": null,
      "metadata": {},
      "outputs": [],
      "source": []
    }
  ],
  "metadata": {
    "kernelspec": {
      "display_name": "Python 3",
      "language": "python",
      "name": "python3"
    },
    "language_info": {
      "codemirror_mode": {
        "name": "ipython",
        "version": 3
      },
      "file_extension": ".py",
      "mimetype": "text/x-python",
      "name": "python",
      "nbconvert_exporter": "python",
      "pygments_lexer": "ipython3",
      "version": "3.11.0"
    },
    "name": "Comprehensive Analysis"
  },
  "nbformat": 4,
  "nbformat_minor": 2
}
