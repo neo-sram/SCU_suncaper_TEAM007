{
  "cells": [
    {
      "cell_type": "code",
      "execution_count": 1,
      "metadata": {},
      "outputs": [],
      "source": [
        "from pyspark.sql import SparkSession\n",
        "from pyspark.sql.types import *\n",
        "from pyspark.sql.functions import *\n",
        "spark = SparkSession.builder.appName('hello spark').master('local').getOrCreate()"
      ]
    },
    {
      "cell_type": "code",
      "execution_count": 16,
      "metadata": {},
      "outputs": [
        {
          "name": "stdout",
          "output_type": "stream",
          "text": [
            "+-------------+--------------------+--------------------+--------------------+------------+--------------------+-------+-------------+--------------+------------------+-----------+------------+-----+-----+\n",
            "|      address|          attributes|         business_id|          categories|        city|               hours|is_open|     latitude|     longitude|              name|postal_code|review_count|stars|state|\n",
            "+-------------+--------------------+--------------------+--------------------+------------+--------------------+-------+-------------+--------------+------------------+-----------+------------+-----+-----+\n",
            "|  935 Race St|{NULL, NULL, u'no...|MTSW4McQd7CbVtyjq...|Restaurants, Food...|Philadelphia|{7:0-21:0, 7:0-20...|      1|   39.9555052|   -75.1555641|St Honore Pastries|      19107|          80|  4.0|   PA|\n",
            "|  205 Race St|{NULL, NULL, 'ful...|MUTTqe8uqyMdBl186...|Sushi Bars, Resta...|Philadelphia|{13:30-23:0, NULL...|      1|    39.953949|   -75.1432262|          Tuna Bar|      19106|         245|  4.0|   PA|\n",
            "|1224 South St|{NULL, NULL, u'no...|ROeacJQwBeh05Rqg7...| Korean, Restaurants|Philadelphia|{11:30-20:30, 11:...|      1|    39.943223|    -75.162568|               BAP|      19147|         205|  4.5|   PA|\n",
            "| 767 S 9th St|{NULL, NULL, u'fu...|QdN72BWoyFypdGJhh...|Cocktail Bars, Ba...|Philadelphia|{12:0-2:0, 16:0-0...|      0|39.9398245705|-75.1574465632|           Bar One|      19147|          65|  4.0|   PA|\n",
            "| 4105 Main St|{NULL, NULL, u'no...|Mjboz24M9NlBeiOJK...|Pizza, Restaurant...|Philadelphia|{17:0-0:30, NULL,...|      0|   40.0224662|    -75.218314|  DeSandro on Main|      19127|          41|  3.0|   PA|\n",
            "+-------------+--------------------+--------------------+--------------------+------------+--------------------+-------+-------------+--------------+------------------+-----------+------------+-----+-----+\n",
            "only showing top 5 rows\n",
            "\n",
            "+--------------------+--------------------+--------------------+--------------------+------+--------------------+-------+----------+------------+--------------------+-----------+------------+-----+-----+\n",
            "|             address|          attributes|         business_id|          categories|  city|               hours|is_open|  latitude|   longitude|                name|postal_code|review_count|stars|state|\n",
            "+--------------------+--------------------+--------------------+--------------------+------+--------------------+-------+----------+------------+--------------------+-----------+------------+-----+-----+\n",
            "|5255 E Broadway Blvd|{NULL, NULL, NULL...|tUFrWirKiKi_TAnsV...|Department Stores...|Tucson|{8:0-23:0, 8:0-22...|      0| 32.223236| -110.880452|              Target|      85711|          22|  3.5|   AZ|\n",
            "|     625 N Stone Ave|{NULL, NULL, NULL...|rBmpy_Y1UbBx8ggHl...|Automotive, Auto ...|Tucson|{8:0-17:0, 0:0-0:...|      1|32.2298719|-110.9723419|Arizona Truck Out...|      85705|          10|  4.5|   AZ|\n",
            "|1625 W Valencia R...|{NULL, NULL, 'bee...|wghnIlMb_i5U46HMB...|Restaurants, Chinese|Tucson|{11:0-21:0, 11:0-...|      0|32.1323047|-110.9999851|China Dragon Rest...|      85746|          23|  3.0|   AZ|\n",
            "|1070 E Tucson Mar...|{NULL, NULL, NULL...|txyXRytGjwOXvS8s4...|Vitamins & Supple...|Tucson|{7:0-19:0, 0:0-0:...|      1| 32.186794| -110.954765|       Smoothie King|      85713|          29|  3.0|   AZ|\n",
            "|     4158 E Grant Rd|                NULL|eYxGFkxo6m3SYGVTh...|Towing, Hotels & ...|Tucson|{8:30-18:0, 8:30-...|      1|32.2503237|-110.9036553|Big Boyz Toyz Mot...|      85712|           8|  4.5|   AZ|\n",
            "+--------------------+--------------------+--------------------+--------------------+------+--------------------+-------+----------+------------+--------------------+-----------+------------+-----+-----+\n",
            "only showing top 5 rows\n",
            "\n",
            "+--------------------+--------------------+--------------------+--------------------+-----+--------------------+-------+-------------+--------------+--------------------+-----------+------------+-----+-----+\n",
            "|             address|          attributes|         business_id|          categories| city|               hours|is_open|     latitude|     longitude|                name|postal_code|review_count|stars|state|\n",
            "+--------------------+--------------------+--------------------+--------------------+-----+--------------------+-------+-------------+--------------+--------------------+-----------+------------+-----+-----+\n",
            "|    2815 E Sligh Ave|{NULL, NULL, NULL...|0qNpTGTcqPwOLi2hA...|Food, Grocery, Co...|Tampa|                NULL|      1|   28.0103596|   -82.4300416|    Charlie's Market|      33610|           9|  3.0|   FL|\n",
            "|10440 N Dale Mabr...|{NULL, NULL, u'fu...|uI9XODGY_2_ieTE6x...|Restaurants, Amer...|Tampa|{11:30-22:0, 11:3...|      0|28.0462028173|-82.5050526736|         Roman Forum|      33618|          23|  4.0|   FL|\n",
            "|2038 N Dale Mabry...|{NULL, NULL, u'be...|JgpnXv_0XhV3SfbfB...|  Restaurants, Pizza|Tampa|{11:0-3:0, 11:0-2...|      0|   27.9605142|    -82.506127|         Joe's Pizza|      33607|          35|  4.0|   FL|\n",
            "|3904 W Hillsborou...|{NULL, NULL, NULL...|mjWvAkNqoA6Y5P03s...|  Uniforms, Shopping|Tampa|                NULL|      1|27.9954501644|   -82.5081187|Educational Outfi...|      33614|          10|  2.0|   FL|\n",
            "|                    |{NULL, NULL, NULL...|RK6-cJ9hj53RzOlCB...|Restaurants, Ital...|Tampa|{0:0-0:0, 0:0-0:0...|      1|    27.890814|   -82.5023464|             Impasto|      33611|           5|  5.0|   FL|\n",
            "+--------------------+--------------------+--------------------+--------------------+-----+--------------------+-------+-------------+--------------+--------------------+-----------+------------+-----+-----+\n",
            "only showing top 5 rows\n",
            "\n",
            "+--------------------+--------------------+--------------------+--------------------+------------+--------------------+-------+-------------+-------------+--------------------+-----------+------------+-----+-----+\n",
            "|             address|          attributes|         business_id|          categories|        city|               hours|is_open|     latitude|    longitude|                name|postal_code|review_count|stars|state|\n",
            "+--------------------+--------------------+--------------------+--------------------+------------+--------------------+-------+-------------+-------------+--------------------+-----------+------------+-----+-----+\n",
            "|        8901 US 31 S|{NULL, NULL, 'non...|il_Ro8jwPlHresjw9...|American (Traditi...|Indianapolis|{6:0-22:0, 6:0-22...|      1|39.6371332838|-86.127217412|             Denny's|      46227|          28|  2.5|   IN|\n",
            "|8675 River Crossi...|{NULL, NULL, NULL...|qhDdDeI3K4jy2Kyzw...|Shopping, Books, ...|Indianapolis|{10:0-21:0, 10:0-...|      1|     39.91382|   -86.105739|Barnes & Noble Bo...|      46240|          38|  4.0|   IN|\n",
            "|      6625 E 82nd St|{NULL, NULL, NULL...|kfNv-JZpuN6TVNSO6...|Steakhouses, Asia...|Indianapolis|{11:0-21:0, 11:0-...|      1|39.9043203184|  -86.0530799|     Hibachi Express|      46250|          20|  4.0|   IN|\n",
            "|      5324 W 16th St|{NULL, NULL, NULL...|x1mhq4IpWctQOBM06...|Hair Salons, Hair...|Indianapolis|{9:0-18:0, 9:0-18...|      1|39.7874644177|  -86.2514209|Diamond Hair Company|      46224|          25|  1.5|   IN|\n",
            "|      6880 E 82nd St|{NULL, NULL, 'ful...|seKihQKpGGnCeLuEL...|Sports Bars, Amer...|Indianapolis|{11:0-19:0, 0:0-0...|      1|   39.9062952|  -86.0474634|          Twin Peaks|      46250|         257|  3.5|   IN|\n",
            "+--------------------+--------------------+--------------------+--------------------+------------+--------------------+-------+-------------+-------------+--------------------+-----------+------------+-----+-----+\n",
            "only showing top 5 rows\n",
            "\n",
            "+--------------------+--------------------+--------------------+--------------------+---------+--------------------+-------+----------+-----------+------------------+-----------+------------+-----+-----+\n",
            "|             address|          attributes|         business_id|          categories|     city|               hours|is_open|  latitude|  longitude|              name|postal_code|review_count|stars|state|\n",
            "+--------------------+--------------------+--------------------+--------------------+---------+--------------------+-------+----------+-----------+------------------+-----------+------------+-----+-----+\n",
            "| 2312 Dickerson Pike|{NULL, NULL, u'no...|bBDDEgkFA1Otx9Lfe...|Ice Cream & Froze...|Nashville|{6:0-16:0, 0:0-0:...|      1|36.2081024|-86.7681696|    Sonic Drive-In|      37207|          10|  1.5|   TN|\n",
            "|1160 Gallatin Pike S|{NULL, NULL, u'be...|4iRzR7OaS-QaSXuvY...|Hot Dogs, Restaur...|Nashville|                NULL|      0|36.2485696|-86.7199857|         Super Dog|      37115|           6|  4.0|   TN|\n",
            "|       215 1st Ave S|{NULL, NULL, u'fu...|tMkwHmWFUEXrC9Zdu...|Restaurants, Japa...|Nashville|{16:0-23:0, NULL,...|      0|36.1598858|-86.7731974|The Green Pheasant|      37201|         161|  4.0|   TN|\n",
            "|       2031 Broadway|{NULL, NULL, u'be...|lk9IwjZXqUMqqOhM7...|Coffee & Tea, Res...|Nashville|{7:0-17:0, 7:0-17...|      0|36.1483712|-86.7988947|  Caviar & Bananas|      37203|         159|  3.5|   TN|\n",
            "|4011 Hillsboro Pi...|{NULL, NULL, NULL...|B2qqjCl_BNNnXvWWf...|Shopping, Baby Ge...|Nashville|{10:0-20:0, 0:0-0...|      1|36.1036135|-86.8162678| Pottery Barn Kids|      37215|          13|  1.5|   TN|\n",
            "+--------------------+--------------------+--------------------+--------------------+---------+--------------------+-------+----------+-----------+------------------+-----------+------------+-----+-----+\n",
            "only showing top 5 rows\n",
            "\n",
            "+----------------+--------------------+--------------------+--------------------+-----------+--------------------+-------+-------------+--------------+--------------------+-----------+------------+-----+-----+\n",
            "|         address|          attributes|         business_id|          categories|       city|               hours|is_open|     latitude|     longitude|                name|postal_code|review_count|stars|state|\n",
            "+----------------+--------------------+--------------------+--------------------+-----------+--------------------+-------+-------------+--------------+--------------------+-----------+------------+-----+-----+\n",
            "|    712 Adams St|{NULL, NULL, NULL...|M0XSSHqrASOnhgbWD...|Vape Shops, Tobac...|New Orleans|{10:0-19:0, 10:0-...|      1|29.9414679565| -90.129952757|      Herb Import Co|      70118|           5|  4.0|   LA|\n",
            "|100 Iberville St|{NULL, NULL, NULL...|w_AMNoI1iG9eay7nc...|Event Planning & ...|New Orleans|                NULL|      1|    29.951359|   -90.0646715|           River 127|      70130|          12|  3.0|   LA|\n",
            "| 723 St Peter St|{NULL, NULL, NULL...|uczmbBk5O3tYhGue1...|Hotels & Travel, ...|New Orleans|{10:0-20:0, 0:0-0...|      1|    29.958431|    -90.065173|New Orleans Spiri...|      70130|          38|  4.0|   LA|\n",
            "| 1001 Poydras St|{NULL, NULL, u'fu...|YNjyv0gfOr2g8lbmU...|Nightlife, Pubs, ...|New Orleans|{11:0-23:0, 0:0-0...|      1|29.9506467229|-90.0744274301|         Copper Vine|      70112|         350|  4.5|   LA|\n",
            "|  600 Decatur St|{NULL, NULL, NULL...|J_ksUDPpzPwfTGtI4...|Event Planning & ...|New Orleans|{9:0-16:0, 9:0-16...|      1|   29.9559253|   -90.0629624|      Riverview Room|      70130|           7|  4.5|   LA|\n",
            "+----------------+--------------------+--------------------+--------------------+-----------+--------------------+-------+-------------+--------------+--------------------+-----------+------------+-----+-----+\n",
            "only showing top 5 rows\n",
            "\n",
            "+--------------------+--------------------+--------------------+--------------------+----+--------------------+-------+----------+------------+--------------------+-----------+------------+-----+-----+\n",
            "|             address|          attributes|         business_id|          categories|city|               hours|is_open|  latitude|   longitude|                name|postal_code|review_count|stars|state|\n",
            "+--------------------+--------------------+--------------------+--------------------+----+--------------------+-------+----------+------------+--------------------+-----------+------------+-----+-----+\n",
            "|  5505 S Virginia St|{NULL, NULL, 'ful...|9OG5YkX1g2GReZM0A...|Restaurants, Italian|Reno|{11:0-21:0, 11:0-...|      1|39.4761165|-119.7893392|Romano's Macaroni...|      89502|         339|  2.5|   NV|\n",
            "|5191 Meadowood Ma...|{NULL, NULL, u'no...|knQ4vIgx-r85kjlWV...|Sporting Goods, S...|Reno|{10:0-21:0, 0:0-0...|      1| 39.476518|-119.7840369|Silver and Blue O...|      89502|           5|  4.5|   NV|\n",
            "|       2500 E 2nd St|{NULL, NULL, NULL...|uCQqtYW_xc1EJRm7N...|      Food, Desserts|Reno|{12:0-23:15, 12:0...|      1| 39.523904| -119.777525|        Yogurt Beach|      89595|          12|  4.5|   NV|\n",
            "|     400 N Center St|{NULL, NULL, NULL...|yswijv6wP2fKbMqAi...|Active Life, Bask...|Reno|{9:0-17:0, 9:0-17...|      0|39.5309239|-119.8122604|       Reno Bighorns|      89501|           6|  5.0|   NV|\n",
            "| 2910 Mill St, Ste B|{False, NULL, NUL...|vvE3HVfxlx9UYctKP...|Weight Loss Cente...|Reno|{5:30-13:0, 0:0-0...|      1|39.5174106|-119.7783471|Inspired By Purpo...|      89502|           9|  4.5|   NV|\n",
            "+--------------------+--------------------+--------------------+--------------------+----+--------------------+-------+----------+------------+--------------------+-----------+------------+-----+-----+\n",
            "only showing top 5 rows\n",
            "\n",
            "+--------------------+--------------------+--------------------+--------------------+--------+--------------------+-------+-------------+---------------+--------------------+-----------+------------+-----+-----+\n",
            "|             address|          attributes|         business_id|          categories|    city|               hours|is_open|     latitude|      longitude|                name|postal_code|review_count|stars|state|\n",
            "+--------------------+--------------------+--------------------+--------------------+--------+--------------------+-------+-------------+---------------+--------------------+-----------+------------+-----+-----+\n",
            "| 10359 104 Street NW|{NULL, NULL, u'be...|WKMJwqnfZKsAae75R...|Coffee & Tea, Foo...|Edmonton|{8:0-18:0, 8:0-18...|      0|   53.5460453|   -113.4991693|Roast Coffeehouse...|    T5J 1B9|          40|  4.0|   AB|\n",
            "|10303  108 Street NW|{NULL, NULL, u'no...|JX4tUpd09YFchLBuI...|Arts & Entertainm...|Edmonton|{11:0-1:0, 11:0-1...|      1|   53.5446819|    -113.506589|Naked Cyber Cafe ...|    T5J 1L7|          12|  4.0|   AB|\n",
            "|11642 104 Avenue,...|{NULL, NULL, NULL...|5BmQX4UVJY19mMtaf...|Specialty Food, B...|Edmonton|{9:0-18:0, 9:0-18...|      1|    53.547205|    -113.522448|Breadland Organic...|    T5K 2T7|          23|  4.0|   AB|\n",
            "|    10588 109 Street|{NULL, NULL, u'no...|cVBxfMC4lp3DnocjY...|Coffee & Tea, Caf...|Edmonton|{10:0-20:0, 0:0-0...|      0|   53.5496333|   -113.5087799|   Paws The Cat Cafe|    T5H 3B2|          20|  5.0|   AB|\n",
            "|   5203 99 Street NW|{NULL, NULL, NULL...|mFTaYsRDyeFaY2NDL...|Tabletop Games, S...|Edmonton|{10:0-18:0, 10:0-...|      1|53.4893123495|-113.4855665582|    River City Games|    T6E 5B7|           5|  4.5|   AB|\n",
            "+--------------------+--------------------+--------------------+--------------------+--------+--------------------+-------+-------------+---------------+--------------------+-----------+------------+-----+-----+\n",
            "only showing top 5 rows\n",
            "\n",
            "+--------------------+--------------------+--------------------+--------------------+-----------+--------------------+-------+----------+-----------+--------------------+-----------+------------+-----+-----+\n",
            "|             address|          attributes|         business_id|          categories|       city|               hours|is_open|  latitude|  longitude|                name|postal_code|review_count|stars|state|\n",
            "+--------------------+--------------------+--------------------+--------------------+-----------+--------------------+-------+----------+-----------+--------------------+-----------+------------+-----+-----+\n",
            "|       1931 Park Ave|{NULL, NULL, u'fu...|1MeIwdbTnZOBFCKOr...|American (New), R...|Saint Louis|{16:0-22:0, 11:0-...|      0|38.6172724|-90.2127841|Ricardo's Italian...|      63104|          80|  3.5|   MO|\n",
            "|     118 W Adams Ave|{NULL, NULL, 'ful...|VrGxoSNZfSiT-G4Oq...|Bars, Lounges, Am...|Saint Louis|{16:0-22:0, 16:0-...|      1|38.5832229|-90.4071872|    Sunset 44 Bistro|      63122|          73|  4.0|   MO|\n",
            "|       1200 Lynch St|{NULL, NULL, NULL...|sB45WFgysT617bKWP...|Bars, Beer Garden...|Saint Louis|{9:0-17:0, 0:0-0:...|      1|38.6001971|-90.2135377|Budweiser Brewery...|      63118|         605|  4.5|   MO|\n",
            "|2980 Dougherty Fe...|{True, NULL, NULL...|2oxrOO3c9_mQmqM9k...|Health & Medical,...|Saint Louis|{8:0-20:0, 8:0-20...|      1| 38.568086| -90.475388|Total Access Urge...|      63021|           6|  3.5|   MO|\n",
            "|1034 S Brentwood ...|{NULL, NULL, NULL...|YD_eZ4TaFrHYRrJVz...|Medical Centers, ...|Saint Louis|{9:0-17:0, 9:0-17...|      1|38.6361966|-90.3457542|     Passport Health|      63117|          11|  1.5|   MO|\n",
            "+--------------------+--------------------+--------------------+--------------------+-----------+--------------------+-------+----------+-----------+--------------------+-----------+------------+-----+-----+\n",
            "only showing top 5 rows\n",
            "\n"
          ]
        }
      ],
      "source": [
        "df = spark.read.json('D:/china/intershipBigData/yelp/yelp_academic_dataset_business.json')\n",
        "phili = df.filter(df['city'] == \"Philadelphia\").show(5)\n",
        "Tucson = df.filter(df['city'] == \"Tucson\").show(5)\n",
        "Tampa = df.filter(df['city'] == \"Tampa\").show(5)\n",
        "Indianapolis = df.filter(df['city'] == \"Indianapolis\").show(5)\n",
        "Nashville = df.filter(df['city'] == \"Nashville\").show(5)\n",
        "New_Orleans = df.filter(df['city'] == \"New Orleans\").show(5)\n",
        "Reno = df.filter(df['city'] == \"Reno\").show(5)\n",
        "Edmonton = df.filter(df['city'] == \"Edmonton\").show(5)\n",
        "Saint_Louis = df.filter(df['city'] == \"Saint Louis\").show(5)"
      ]
    },
    {
      "cell_type": "code",
      "execution_count": 22,
      "metadata": {},
      "outputs": [
        {
          "name": "stdout",
          "output_type": "stream",
          "text": [
            "+--------------------+--------------------+--------------------+--------------------+----------------+--------------------+-------+-------------+---------------+--------------------+-----------+------------+-----+-----+\n",
            "|             address|          attributes|         business_id|          categories|            city|               hours|is_open|     latitude|      longitude|                name|postal_code|review_count|stars|state|\n",
            "+--------------------+--------------------+--------------------+--------------------+----------------+--------------------+-------+-------------+---------------+--------------------+-----------+------------+-----+-----+\n",
            "|2309 N Dale Mabry...|{NULL, NULL, 'non...|h2z8V4L63QUSjacdu...|Nightlife, Cabare...|           Tampa|{12:0-6:0, 12:0-4...|      1|   27.9621572|    -82.5050939|        2001 Odyssey|      33607|          35|  3.5|   FL|\n",
            "|        708 N 2nd St|{NULL, NULL, u'fu...|8FPoRksgBRiPNnC8B...|Arts & Entertainm...|     Saint Louis|{16:0-1:30, NULL,...|      0|   38.6303714|    -90.1844936|    Seven Zero Eight|      63102|          34|  2.0|   MO|\n",
            "|   1060 Telegraph St|{NULL, NULL, u'fu...|gu7aSHgTjZ6DQBFD-...|Cabaret, Restaura...|            Reno|{12:0-5:0, 0:0-0:...|      1|39.5155735767| -119.773041559|Peppermint Hippo ...|      89502|          10|  4.0|   NV|\n",
            "|250 Bobwhite Ct, ...|{False, NULL, NUL...|66vJSrgcXA9h5_oB4...|Doctors, IV Hydra...|           Boise|{NULL, 8:0-17:0, ...|      1|   43.5970321|   -116.1837324|Integrative Medic...|      83706|           5|  5.0|   ID|\n",
            "|924 N Pennsylvani...|{NULL, NULL, u'fu...|TEZ6tQ92RU5CYfDIO...|Nightlife, Cabare...|    Indianapolis|{10:0-17:0, 0:0-0...|      1|   39.7799576|    -86.1562132|         The Cabaret|      46204|          22|  4.5|   IN|\n",
            "|      632 Bourbon St|{NULL, u'21plus',...|q1lImbkMQORg9HEcG...|Gay Bars, Adult E...|     New Orleans|{20:0-4:0, NULL, ...|      0|29.9575052003| -90.0665278127|    Bourbon Bad Boys|      70130|          24|  3.0|   LA|\n",
            "|305 N Fort Harris...|{False, NULL, NUL...|YpufHZt_gPeQ7pfD8...|Health & Medical,...|      Clearwater|{8:0-18:0, 8:0-18...|      1|   27.9695075|    -82.7997773|Free Motion Physi...|      33755|           8|  5.0|   FL|\n",
            "|       1700 4th St N|                NULL|VkEtErmscrfJsobFA...|Cryotherapy, IV H...|  St. Petersburg|{10:0-19:0, 10:0-...|      1|   27.7886354|    -82.6388644|Restore Hyper Wel...|      33704|           8|  5.0|   FL|\n",
            "|     125 Chartres St|{NULL, NULL, 'ful...|NptSlw3aDVtu-qtXc...|Arts & Entertainm...|     New Orleans|{17:0-1:30, 0:0-0...|      1|   29.9532894|     -90.067761|  Mahogany Jazz Hall|      70130|          97|  4.5|   LA|\n",
            "|     8217 104 Street|{NULL, NULL, NULL...|4c6KFQDT51uHrPcfo...|Arts & Entertainm...|        Edmonton|{11:0-2:0, 11:0-2...|      1|    53.518453|    -113.497289|   Spotlight Cabaret|    T6E 4E7|          12|  4.5|   AB|\n",
            "|   515 S Virginia St|{NULL, NULL, 'ful...|OZ-1ELIHAoF4jPwzu...|Champagne Bars, A...|            Reno|{19:0-6:0, 19:0-3...|      1|39.5196227275| -119.810345503|         Wild Orchid|      89501|          66|  3.0|   NV|\n",
            "|   269 A Franklin Rd|{NULL, NULL, NULL...|TF4rcS6u1yvFjHtXg...|Cryotherapy, IV H...|       Brentwood|{10:0-19:0, 10:0-...|      1|   36.0297973| -86.7914724528|Restore Hyper Wel...|      37027|           6|  4.5|   TN|\n",
            "|    16615 109 Avenue|{NULL, NULL, u'fu...|crjRqGzxe6-MM4ylq...|Restaurants, Cana...|        Edmonton|{9:0-19:0, 9:0-19...|      1|53.5547235146|-113.6079470512|Mayfield Dinner T...|    T5J 1W5|          75|  4.5|   AB|\n",
            "|2240 Saint Claude...|{NULL, NULL, u'fu...|d7W1Fi6uRYUhDT_uW...|Nightlife, Perfor...|     New Orleans|{17:0-2:0, 17:0-1...|      1|29.9685314431| -90.0556376032|The AllWays Loung...|      70117|         102|  4.5|   LA|\n",
            "|  2901 Tyrone Blvd N|{NULL, NULL, u'fu...|mnCxnZ_enDs80ztv5...|Burgers, Bars, Ad...|Saint Petersburg|{11:0-0:0, 11:0-2...|      0|   27.7975851|    -82.7343122|     Hamburger Marys|      33710|          74|  3.5|   FL|\n",
            "|         344 Camp St|{NULL, NULL, u'fu...|UMQrB5IiWGidFjEXS...|Hotels & Travel, ...|     New Orleans|{6:30-23:0, 16:0-...|      0| 29.949805056| -90.0689642031|    Queen & Crescent|      70130|          85|  2.0|   LA|\n",
            "|      315 Bourbon St|{NULL, NULL, 'ful...|FwTIsJdOV8JVBO_ep...|Cabaret, Arts & E...|     New Orleans|{14:0-4:0, 14:0-4...|      1|    29.955959|    -90.0683657|      Rick's Cabaret|      70130|          90|  3.0|   LA|\n",
            "|   24652 US Hwy 19 N|{NULL, NULL, NULL...|jLyJ-CamATg-NZ3ij...|Arts & Entertainm...|      Clearwater|{12:0-3:0, 18:0-3...|      1|    27.996436|    -82.7299515|               Oasis|      33763|           6|  4.0|   FL|\n",
            "|627 Massachusetts...|{NULL, NULL, NULL...|KNn1f19fTzPjf008I...|Cabaret, Arts & E...|    Indianapolis|                NULL|      1|   39.7756233|    -86.1476909|Theatre On the Sq...|      46204|          31|  4.0|   IN|\n",
            "|    727 Iberville St|{NULL, NULL, u'fu...|-xxGo7PSP5tnL_GEH...|Bars, Cabaret, Ar...|     New Orleans|{17:0-1:0, 17:0-1...|      1|     29.95461|    -90.0687741|The Penthouse Clu...|      70130|          64|  3.0|   LA|\n",
            "|     5718 E Adamo Dr|{NULL, NULL, NULL...|sIxqxRfA0550QGY-l...|Adult Entertainme...|           Tampa|{12:0-19:0, 12:0-...|      1|27.9527147268| -82.3897244409|   Emperors Of Tampa|      33619|           7|  2.0|   FL|\n",
            "|   345 N Virginia St|{NULL, NULL, u'fu...|GliX6K0W09wTS7VqE...|Nightlife, Arts &...|            Reno|{12:0-20:30, 0:0-...|      1|    39.529111|   -119.8146715|   Eldorado Showroom|      89501|          74|  4.5|   NV|\n",
            "|   287 N Keswick Ave|{NULL, NULL, u'fu...|sTS89ctqDQj-oj4aj...|Arts & Entertainm...|        Glenside|{17:0-0:0, 0:0-0:...|      0|40.1062928539| -75.1471106228|    Dino's Backstage|      19038|          54|  3.5|   PA|\n",
            "|     4510 Manchester|{NULL, NULL, u'fu...|pgGB9JMomjODsdFKC...|Music Venues, Nig...|     Saint Louis|{17:0-1:30, NULL,...|      0|38.6262433012| -90.2622215331|         The Monocle|      63110|          29|  4.5|   MO|\n",
            "|1401 Mississippi Ave|{NULL, NULL, 'ful...|rnjXf1zDn9LGejhIX...|Arts & Entertainm...|          Sauget|{11:0-6:0, 11:0-5...|      1|    38.603017|     -90.174638|     Diamond Cabaret|      62201|          13|  2.5|   IL|\n",
            "|209A Santa Barbar...|{True, NULL, NULL...|mCGtci8Se4Cx1bH6S...|Traditional Chine...|   Santa Barbara|{9:0-18:0, 9:0-18...|      1|34.4163834188| -119.689845081|Alki Art & Wellne...|      93101|          38|  5.0|   CA|\n",
            "|       150 2nd Ave N|{NULL, NULL, u'fu...|FnC4STqkKbJElkwsR...|Arts & Entertainm...|       Nashville|{NULL, NULL, 11:0...|      1|    36.163462|     -86.775807|Music City Male R...|      37201|           7|  3.0|   TN|\n",
            "|Mag's 940, 940 El...|                NULL|B0ypVmtuwvyhI6Xjk...|Arts & Entertainm...|     New Orleans|                NULL|      1|   29.9673788|    -90.0571066|Diva Royal- Drag ...|      70117|           6|  4.0|   LA|\n",
            "|       625 N Main St|{NULL, NULL, u'fu...|YsGCL_hwZ3UulPr-m...|Cabaret, Comedy C...|      Doylestown|{16:0-22:0, 19:0-...|      1|   40.3250304|    -75.1294086|      Comedy Cabaret|      18901|           5|  4.5|   PA|\n",
            "|     3225 Advance Ln|{NULL, NULL, u'fu...|hFbbuETE4QVupYwMn...|Dance Clubs, Bars...|        Hatfield|{16:0-2:0, 0:0-0:...|      1|   40.2744865|    -75.2540131|   Creekside Cabaret|      18915|           9|  3.5|   PA|\n",
            "+--------------------+--------------------+--------------------+--------------------+----------------+--------------------+-------+-------------+---------------+--------------------+-----------+------------+-----+-----+\n",
            "only showing top 30 rows\n",
            "\n"
          ]
        }
      ],
      "source": [
        "df = spark.read.json('D:/china/intershipBigData/yelp/yelp_academic_dataset_business.json')\n",
        "bar = [\"bar\"]\n",
        "regex = \",\".join(bar)\n",
        "bar_category = df.filter(col('categories').rlike(regex)).show(30)"
      ]
    },
    {
      "cell_type": "code",
      "execution_count": 2,
      "metadata": {
        "autoscroll": "auto"
      },
      "outputs": [
        {
          "name": "stdout",
          "output_type": "stream",
          "text": [
            "+--------------------+---+\n",
            "|                name|cnt|\n",
            "+--------------------+---+\n",
            "|           Starbucks|724|\n",
            "|          McDonald's|703|\n",
            "|             Dunkin'|510|\n",
            "|              Subway|459|\n",
            "|           Taco Bell|365|\n",
            "|        CVS Pharmacy|345|\n",
            "|           Walgreens|341|\n",
            "|         Burger King|338|\n",
            "|             Wendy's|331|\n",
            "|                Wawa|307|\n",
            "|      Domino's Pizza|295|\n",
            "|       The UPS Store|281|\n",
            "|           Pizza Hut|272|\n",
            "|Enterprise Rent-A...|232|\n",
            "|   Papa John's Pizza|196|\n",
            "|         Great Clips|185|\n",
            "|        Jimmy John's|175|\n",
            "|      US Post Office|174|\n",
            "|                 KFC|171|\n",
            "|         Chick-fil-A|162|\n",
            "+--------------------+---+\n",
            "\n"
          ]
        }
      ],
      "source": [
        "\n",
        "df = spark.read.json('D:/china/intershipBigData/yelp/yelp_academic_dataset_business.json')\n",
        "\n",
        "result = df.groupBy('name')\\\n",
        "    .agg(count('name').alias('cnt'))\\\n",
        "    .orderBy(col('cnt').desc())\\\n",
        "    .limit(20)\n",
        "\n",
        "result.show()\n"
      ]
    },
    {
      "cell_type": "code",
      "execution_count": 3,
      "metadata": {
        "autoscroll": "auto"
      },
      "outputs": [
        {
          "name": "stdout",
          "output_type": "stream",
          "text": [
            "+-------------+--------------+\n",
            "|         city|merchant_count|\n",
            "+-------------+--------------+\n",
            "| Philadelphia|         14569|\n",
            "|       Tucson|          9250|\n",
            "|        Tampa|          9050|\n",
            "| Indianapolis|          7540|\n",
            "|    Nashville|          6971|\n",
            "|  New Orleans|          6209|\n",
            "|         Reno|          5935|\n",
            "|     Edmonton|          5054|\n",
            "|  Saint Louis|          4827|\n",
            "|Santa Barbara|          3829|\n",
            "+-------------+--------------+\n",
            "only showing top 10 rows\n",
            "\n"
          ]
        }
      ],
      "source": [
        "df = spark.read.json('D:/china/intershipBigData/yelp/yelp_academic_dataset_business.json')\n",
        "result = df.groupBy('city') \\\n",
        "            .agg(count('name').alias('merchant_count')) \\\n",
        "            .orderBy(col('merchant_count').desc()) \\\n",
        "\n",
        "result.show(10)  \n"
      ]
    },
    {
      "cell_type": "code",
      "execution_count": 4,
      "metadata": {
        "autoscroll": "auto"
      },
      "outputs": [
        {
          "name": "stdout",
          "output_type": "stream",
          "text": [
            "+-----+--------------+\n",
            "|state|merchant_count|\n",
            "+-----+--------------+\n",
            "|   PA|         34039|\n",
            "|   FL|         26330|\n",
            "|   TN|         12056|\n",
            "|   IN|         11247|\n",
            "|   MO|         10913|\n",
            "|   LA|          9924|\n",
            "|   AZ|          9912|\n",
            "|   NJ|          8536|\n",
            "|   NV|          7715|\n",
            "|   AB|          5573|\n",
            "+-----+--------------+\n",
            "\n"
          ]
        }
      ],
      "source": [
        "\n",
        "df = spark.read.json('D:/china/intershipBigData/yelp/yelp_academic_dataset_business.json')\n",
        "result = df.groupBy('state') \\\n",
        "                      .agg(count('name').alias('merchant_count')) \\\n",
        "                      .orderBy(col('merchant_count').desc()) \\\n",
        "                      .limit(10)\n",
        "\n",
        "result.show(10)"
      ]
    },
    {
      "cell_type": "code",
      "execution_count": 5,
      "metadata": {
        "autoscroll": "auto"
      },
      "outputs": [
        {
          "name": "stdout",
          "output_type": "stream",
          "text": [
            "+------------+--------------+------------------+\n",
            "|        name|merchant_count|        avg_rating|\n",
            "+------------+--------------+------------------+\n",
            "|   Starbucks|           724| 3.126381215469613|\n",
            "|  McDonald's|           703|1.8634423897581793|\n",
            "|     Dunkin'|           510| 2.302941176470588|\n",
            "|      Subway|           459|2.5860566448801743|\n",
            "|   Taco Bell|           365| 2.154794520547945|\n",
            "|CVS Pharmacy|           345|2.4565217391304346|\n",
            "|   Walgreens|           341| 2.624633431085044|\n",
            "| Burger King|           338|2.0281065088757395|\n",
            "|     Wendy's|           331| 2.015105740181269|\n",
            "|        Wawa|           307|3.3192182410423454|\n",
            "+------------+--------------+------------------+\n",
            "only showing top 10 rows\n",
            "\n"
          ]
        }
      ],
      "source": [
        "\n",
        "df = spark.read.json('D:/china/intershipBigData/yelp/yelp_academic_dataset_business.json')\n",
        "result = df.groupBy('name') \\\n",
        "                      .agg(count('name').alias('merchant_count'), avg('stars').alias('avg_rating')) \\\n",
        "                      .orderBy(col('merchant_count').desc()) \\\n",
        "                      .limit(20)\n",
        "result.show(10)"
      ]
    },
    {
      "cell_type": "code",
      "execution_count": 6,
      "metadata": {
        "autoscroll": "auto"
      },
      "outputs": [
        {
          "name": "stdout",
          "output_type": "stream",
          "text": [
            "+-----------------+-----------------------------+\n",
            "|             city|avg_review_count_per_merchant|\n",
            "+-----------------+-----------------------------+\n",
            "|St Louis Downtown|                          7.0|\n",
            "|         St.Louis|                          3.0|\n",
            "|        Mt.Laurel|                          3.0|\n",
            "|    St.Petersburg|                         2.25|\n",
            "|            Bosie|                          2.0|\n",
            "|     PHILADELPHIA|                          2.0|\n",
            "|        NASHVILLE|                          1.5|\n",
            "|            TAMPA|                          1.5|\n",
            "|         Edmonton|           1.2535211267605635|\n",
            "|     Indianapolis|           1.2481999152901313|\n",
            "+-----------------+-----------------------------+\n",
            "only showing top 10 rows\n",
            "\n"
          ]
        }
      ],
      "source": [
        "\n",
        "df = spark.read.json('D:/china/intershipBigData/yelp/yelp_academic_dataset_business.json')\n",
        "result = df.filter(df['is_open'] == 1)\\\n",
        "    .groupBy('city')\\\n",
        "    .agg((count('review_count') / countDistinct('name')).alias('avg_review_count_per_merchant'))\\\n",
        "    .orderBy(col('avg_review_count_per_merchant').desc())\\\n",
        "    .limit(15)\n",
        "result.show(10)\n"
      ]
    },
    {
      "cell_type": "code",
      "execution_count": 7,
      "metadata": {
        "autoscroll": "auto"
      },
      "outputs": [
        {
          "name": "stdout",
          "output_type": "stream",
          "text": [
            "+-----------------+-----+\n",
            "|         category|count|\n",
            "+-----------------+-----+\n",
            "|      Restaurants|36978|\n",
            "|             Food|20998|\n",
            "|         Shopping|18915|\n",
            "|      Restaurants|15290|\n",
            "|    Home Services|10563|\n",
            "|        Nightlife| 9990|\n",
            "|    Beauty & Spas| 9907|\n",
            "|             Bars| 9130|\n",
            "| Health & Medical| 8832|\n",
            "|   Local Services| 8556|\n",
            "+-----------------+-----+\n",
            "only showing top 10 rows\n",
            "\n"
          ]
        }
      ],
      "source": [
        "\n",
        "df = spark.read.json('D:/china/intershipBigData/yelp/yelp_academic_dataset_business.json')\n",
        "category_counts = df.select(explode(split('categories', ',')).alias('category')) \\\n",
        "    .groupBy('category') \\\n",
        "    .agg(count('*').alias('count')) \\\n",
        "    .orderBy(desc('count')) \\\n",
        "    .limit(20)\n",
        "category_counts.show(10)"
      ]
    },
    {
      "cell_type": "code",
      "execution_count": 8,
      "metadata": {
        "autoscroll": "auto"
      },
      "outputs": [
        {
          "name": "stdout",
          "output_type": "stream",
          "text": [
            "+----------------+-----+\n",
            "|        category|  cnt|\n",
            "+----------------+-----+\n",
            "|     Restaurants|52268|\n",
            "|            Food|27781|\n",
            "|        Shopping|24395|\n",
            "|   Home Services|14356|\n",
            "|   Beauty & Spas|14292|\n",
            "|       Nightlife|12281|\n",
            "|Health & Medical|11890|\n",
            "|  Local Services|11198|\n",
            "|            Bars|11065|\n",
            "|      Automotive|10773|\n",
            "+----------------+-----+\n",
            "only showing top 10 rows\n",
            "\n"
          ]
        }
      ],
      "source": [
        "\n",
        "df = spark.read.json('D:/china/intershipBigData/yelp/yelp_academic_dataset_business.json')\n",
        "result = df.select(explode(split('categories', ', ')).alias('category'))\\\n",
        "    .groupBy('category') \\\n",
        "    .agg(count('category').alias('cnt'))\\\n",
        "    .orderBy(col('cnt').desc())\\\n",
        "    .limit(20)\n",
        "result.show(10)"
      ]
    },
    {
      "cell_type": "code",
      "execution_count": 9,
      "metadata": {
        "autoscroll": "auto"
      },
      "outputs": [
        {
          "name": "stdout",
          "output_type": "stream",
          "text": [
            "+--------------------+-----------------+\n",
            "|                name|five_star_reviews|\n",
            "+--------------------+-----------------+\n",
            "|     Blues City Deli|              991|\n",
            "|  Free Tours By Foot|              953|\n",
            "|    Carlillos Cocina|              799|\n",
            "|            Tumerico|              705|\n",
            "|                Yats|              623|\n",
            "|Nelson's Green Br...|              545|\n",
            "|Smiling With Hope...|              526|\n",
            "|Barracuda Deli Ca...|              521|\n",
            "|   SUGARED + BRONZED|              513|\n",
            "|         Cafe Soleil|              473|\n",
            "+--------------------+-----------------+\n",
            "only showing top 10 rows\n",
            "\n"
          ]
        }
      ],
      "source": [
        "\n",
        "df = spark.read.json('D:/china/intershipBigData/yelp/yelp_academic_dataset_business.json')\n",
        "five_star_businesses = df.filter(df.stars == 5)\n",
        "\n",
        "result = five_star_businesses.groupBy('name') \\\n",
        "                              .agg(sum('review_count').alias('five_star_reviews')) \\\n",
        "                              .orderBy(col('five_star_reviews').desc()) \\\n",
        "                              .limit(20)\n",
        "result.show(10)"
      ]
    },
    {
      "cell_type": "code",
      "execution_count": 10,
      "metadata": {
        "autoscroll": "auto"
      },
      "outputs": [
        {
          "name": "stdout",
          "output_type": "stream",
          "text": [
            "+-------+--------+-------+\n",
            "|Chinese|American|Mexican|\n",
            "+-------+--------+-------+\n",
            "|   3343|   13066|   4614|\n",
            "+-------+--------+-------+\n",
            "\n"
          ]
        }
      ],
      "source": [
        "\n",
        "df = spark.read.json('D:/china/intershipBigData/yelp/yelp_academic_dataset_business.json')\n",
        "cuisines = ['Chinese', 'American', 'Mexican']\n",
        "\n",
        "business_with_cuisines = df.withColumn('Chinese', when(col('categories').contains('Chinese'), 1).otherwise(0)) \\\n",
        "                                   .withColumn('American', when(col('categories').contains('American'), 1).otherwise(0)) \\\n",
        "                                   .withColumn('Mexican', when(col('categories').contains('Mexican'), 1).otherwise(0))\n",
        "\n",
        "cuisine_summary = business_with_cuisines.selectExpr('sum(Chinese) as Chinese',\n",
        "                                                    'sum(American) as American',\n",
        "                                                    'sum(Mexican) as Mexican')\n",
        "cuisine_summary.show()\n"
      ]
    },
    {
      "cell_type": "code",
      "execution_count": 11,
      "metadata": {
        "autoscroll": "auto"
      },
      "outputs": [
        {
          "data": {
            "text/plain": [
              "DataFrame[categories: string, review_count: bigint]"
            ]
          },
          "execution_count": 11,
          "metadata": {},
          "output_type": "execute_result"
        }
      ],
      "source": [
        "\n",
        "df = spark.read.json('D:/china/intershipBigData/yelp/yelp_academic_dataset_business.json')\n",
        "cuisine_types = ['Chinese', 'American', 'Mexican']\n",
        "restaurant_review_counts = df.select('categories', 'review_count') \\\n",
        "    .filter(df['categories'].like('%Chinese%') | df['categories'].like('%American%') | df['categories'].like('%Mexican%')) \\\n",
        "    .orderBy(col('review_count').desc()) \\\n",
        "    .limit(20)\n",
        "restaurant_review_counts\n"
      ]
    },
    {
      "cell_type": "code",
      "execution_count": 12,
      "metadata": {
        "autoscroll": "auto"
      },
      "outputs": [
        {
          "name": "stdout",
          "output_type": "stream",
          "text": [
            "+--------------------+-----+\n",
            "|          categories|stars|\n",
            "+--------------------+-----+\n",
            "|Restaurants, Mexi...|  5.0|\n",
            "|Traditional Chine...|  5.0|\n",
            "|Street Vendors, F...|  5.0|\n",
            "|Puerto Rican, Car...|  5.0|\n",
            "|Restaurants, Amer...|  5.0|\n",
            "|Food Trucks, Rest...|  5.0|\n",
            "|Event Planning & ...|  5.0|\n",
            "|Juice Bars & Smoo...|  5.0|\n",
            "|Personal Chefs, F...|  5.0|\n",
            "|Doctors, Traditio...|  5.0|\n",
            "+--------------------+-----+\n",
            "only showing top 10 rows\n",
            "\n"
          ]
        }
      ],
      "source": [
        "\n",
        "df = spark.read.json('D:/china/intershipBigData/yelp/yelp_academic_dataset_business.json')\n",
        "cuisine_types = ['Chinese', 'American', 'Mexican']\n",
        "restaurant_ratings = df.select('categories', 'stars') \\\n",
        "    .filter(df['categories'].like('%Chinese%') | df['categories'].like('%American%') | df['categories'].like('%Mexican%')) \\\n",
        "    .orderBy(col('stars').desc()) \\\n",
        "    .limit(20)\n",
        "restaurant_ratings.show(10)"
      ]
    }
  ],
  "metadata": {
    "kernelspec": {
      "display_name": "Python 3",
      "language": "python",
      "name": "python3"
    },
    "language_info": {
      "codemirror_mode": {
        "name": "ipython",
        "version": 3
      },
      "file_extension": ".py",
      "mimetype": "text/x-python",
      "name": "python",
      "nbconvert_exporter": "python",
      "pygments_lexer": "ipython3",
      "version": "3.11.0"
    },
    "name": "BusinessAnalysis"
  },
  "nbformat": 4,
  "nbformat_minor": 2
}
